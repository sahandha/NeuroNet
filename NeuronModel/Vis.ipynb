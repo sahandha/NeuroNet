{
 "cells": [
  {
   "cell_type": "code",
   "execution_count": 1,
   "metadata": {
    "collapsed": true
   },
   "outputs": [],
   "source": [
    "import Visualization as vis\n",
    "import json"
   ]
  },
  {
   "cell_type": "code",
   "execution_count": 2,
   "metadata": {
    "collapsed": true
   },
   "outputs": [],
   "source": [
    "simpath='/Users/sahand/Research/NeuroNet/Data/08-17-2017/Sim0_N32000_L1000_S10_D100_T60000'"
   ]
  },
  {
   "cell_type": "code",
   "execution_count": 3,
   "metadata": {
    "collapsed": true
   },
   "outputs": [],
   "source": [
    "vis.FixPathsParallel(simpath)"
   ]
  },
  {
   "cell_type": "code",
   "execution_count": 4,
   "metadata": {},
   "outputs": [
    {
     "data": {
      "text/html": [
       "<table align=\"left\" width=100%><tr><th align=\"left\">Paramater Name</th><th align=\"left\">Paramater Value</th><tr><tr><td>C</td><td>20</td></tr><tr><td>C_v</td><td>1</td></tr><tr><td>ConnectionScale</td><td>10</td></tr><tr><td>DataFolder</td><td>/Users/sahand/Research/NeuroNet/Data/08-17-2017/Sim0_N32000_L1000_S10_D100_T60000</td></tr><tr><td>I</td><td>0</td></tr><tr><td>I_v</td><td>0.1</td></tr><tr><td>JobID</td><td>7354558.bw</td></tr><tr><td>NetworkDevel</td><td>100</td></tr><tr><td>NeuronsPerFile</td><td>100</td></tr><tr><td>NumberOfFiles</td><td>320</td></tr><tr><td>NumberOfNeurons</td><td>32000</td></tr><tr><td>SynapseLimit</td><td>1000</td></tr><tr><td>V1</td><td>-1.2</td></tr><tr><td>V1_v</td><td>0.01</td></tr><tr><td>V2</td><td>18.0</td></tr><tr><td>V2_v</td><td>0.01</td></tr><tr><td>V3</td><td>2.0</td></tr><tr><td>V3_v</td><td>0.01</td></tr><tr><td>V4</td><td>30.0</td></tr><tr><td>V4_v</td><td>0.01</td></tr><tr><td>VCa</td><td>120</td></tr><tr><td>VCa_v</td><td>0.01</td></tr><tr><td>VK</td><td>-84</td></tr><tr><td>VK_v</td><td>0.01</td></tr><tr><td>VL</td><td>-60</td></tr><tr><td>VL_v</td><td>0.01</td></tr><tr><td>dt</td><td>0.1</td></tr><tr><td>gCa</td><td>4.4</td></tr><tr><td>gCa_v</td><td>0.01</td></tr><tr><td>gK</td><td>8</td></tr><tr><td>gK_v</td><td>0.01</td></tr><tr><td>gL</td><td>2.0</td></tr><tr><td>gL_v</td><td>0.01</td></tr><tr><td>phi</td><td>0.04</td></tr><tr><td>phi_v</td><td>0.01</td></tr><tr><td>tend</td><td>60000</td></tr></table>"
      ],
      "text/plain": [
       "{'C': 20,\n",
       " 'C_v': 1,\n",
       " 'ConnectionScale': 10,\n",
       " 'DataFolder': '/Users/sahand/Research/NeuroNet/Data/08-17-2017/Sim0_N32000_L1000_S10_D100_T60000',\n",
       " 'I': 0,\n",
       " 'I_v': 0.1,\n",
       " 'JobID': '7354558.bw',\n",
       " 'NetworkDevel': 100,\n",
       " 'NeuronsPerFile': 100,\n",
       " 'NumberOfFiles': 320,\n",
       " 'NumberOfNeurons': 32000,\n",
       " 'SynapseLimit': 1000,\n",
       " 'V1': -1.2,\n",
       " 'V1_v': 0.01,\n",
       " 'V2': 18.0,\n",
       " 'V2_v': 0.01,\n",
       " 'V3': 2.0,\n",
       " 'V3_v': 0.01,\n",
       " 'V4': 30.0,\n",
       " 'V4_v': 0.01,\n",
       " 'VCa': 120,\n",
       " 'VCa_v': 0.01,\n",
       " 'VK': -84,\n",
       " 'VK_v': 0.01,\n",
       " 'VL': -60,\n",
       " 'VL_v': 0.01,\n",
       " 'dt': 0.1,\n",
       " 'gCa': 4.4,\n",
       " 'gCa_v': 0.01,\n",
       " 'gK': 8,\n",
       " 'gK_v': 0.01,\n",
       " 'gL': 2.0,\n",
       " 'gL_v': 0.01,\n",
       " 'phi': 0.04,\n",
       " 'phi_v': 0.01,\n",
       " 'tend': 60000}"
      ]
     },
     "execution_count": 4,
     "metadata": {},
     "output_type": "execute_result"
    }
   ],
   "source": [
    "with open(simpath+\"/Parameters.json\", 'r') as file:\n",
    "    data = json.load(file)\n",
    "    data[\"DataFolder\"]=simpath\n",
    "vis.DictTable(data)"
   ]
  },
  {
   "cell_type": "code",
   "execution_count": null,
   "metadata": {
    "collapsed": true
   },
   "outputs": [],
   "source": [
    "vis.VisTimeSeries(simpath, neurons=[0,10,20,50,100],output='Save')"
   ]
  },
  {
   "cell_type": "code",
   "execution_count": null,
   "metadata": {
    "collapsed": true
   },
   "outputs": [],
   "source": [
    "vis.VisTimeFreq(simpath, cuttoff=60, output = 'Save')"
   ]
  },
  {
   "cell_type": "code",
   "execution_count": 10,
   "metadata": {
    "collapsed": true
   },
   "outputs": [],
   "source": [
    "vis.VisAdjacencyMatrix(simpath, sort=True, output='Save')"
   ]
  },
  {
   "cell_type": "code",
   "execution_count": null,
   "metadata": {
    "collapsed": true
   },
   "outputs": [],
   "source": []
  }
 ],
 "metadata": {
  "kernelspec": {
   "display_name": "Python 3",
   "language": "python",
   "name": "python3"
  },
  "language_info": {
   "codemirror_mode": {
    "name": "ipython",
    "version": 3
   },
   "file_extension": ".py",
   "mimetype": "text/x-python",
   "name": "python",
   "nbconvert_exporter": "python",
   "pygments_lexer": "ipython3",
   "version": "3.6.1"
  }
 },
 "nbformat": 4,
 "nbformat_minor": 2
}
