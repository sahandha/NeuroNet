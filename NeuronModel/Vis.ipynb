{
 "cells": [
  {
   "cell_type": "code",
   "execution_count": 1,
   "metadata": {
    "collapsed": true
   },
   "outputs": [],
   "source": [
    "import Visualization as vis\n",
    "import json\n",
    "import os\n",
    "import numpy as np"
   ]
  },
  {
   "cell_type": "markdown",
   "metadata": {},
   "source": [
    "# Visualize All Simulations"
   ]
  },
  {
   "cell_type": "code",
   "execution_count": 5,
   "metadata": {
    "collapsed": true
   },
   "outputs": [],
   "source": [
    "simfolder='/Users/sahand/Research/NeuroNet/Data/08-27-2017'"
   ]
  },
  {
   "cell_type": "code",
   "execution_count": 6,
   "metadata": {
    "collapsed": true
   },
   "outputs": [],
   "source": [
    "files = os.listdir(simfolder)\n",
    "simpaths = []\n",
    "for f in files:\n",
    "    simpaths.append(simfolder+'/'+f)"
   ]
  },
  {
   "cell_type": "code",
   "execution_count": 7,
   "metadata": {},
   "outputs": [
    {
     "data": {
      "text/plain": [
       "['/Users/sahand/Research/NeuroNet/Data/08-27-2017/Sim0_N1000_L100_S5_D30_T60000',\n",
       " '/Users/sahand/Research/NeuroNet/Data/08-27-2017/Sim1_N1000_L100_S5_D50_T60000',\n",
       " '/Users/sahand/Research/NeuroNet/Data/08-27-2017/Sim2_N1000_L100_S5_D20_T60000',\n",
       " '/Users/sahand/Research/NeuroNet/Data/08-27-2017/Sim4_N1000_L100_S5_D10_T60000',\n",
       " '/Users/sahand/Research/NeuroNet/Data/08-27-2017/Sim5_N1000_L100_S20_D10_T60000',\n",
       " '/Users/sahand/Research/NeuroNet/Data/08-27-2017/Sim6_N1000_L100_S20_D20_T60000',\n",
       " '/Users/sahand/Research/NeuroNet/Data/08-27-2017/Sim7_N1000_L100_S10_D50_T60000',\n",
       " '/Users/sahand/Research/NeuroNet/Data/08-27-2017/Sim8_N1000_L100_S20_D30_T60000']"
      ]
     },
     "execution_count": 7,
     "metadata": {},
     "output_type": "execute_result"
    }
   ],
   "source": [
    "simpaths"
   ]
  },
  {
   "cell_type": "code",
   "execution_count": null,
   "metadata": {},
   "outputs": [
    {
     "name": "stdout",
     "output_type": "stream",
     "text": [
      "/Users/sahand/Research/NeuroNet/Data/08-27-2017/Sim0_N1000_L100_S5_D30_T60000\n",
      "/Users/sahand/Research/NeuroNet/Data/08-27-2017/Sim1_N1000_L100_S5_D50_T60000\n",
      "/Users/sahand/Research/NeuroNet/Data/08-27-2017/Sim2_N1000_L100_S5_D20_T60000\n",
      "/Users/sahand/Research/NeuroNet/Data/08-27-2017/Sim4_N1000_L100_S5_D10_T60000\n",
      "/Users/sahand/Research/NeuroNet/Data/08-27-2017/Sim5_N1000_L100_S20_D10_T60000\n",
      "/Users/sahand/Research/NeuroNet/Data/08-27-2017/Sim6_N1000_L100_S20_D20_T60000\n",
      "/Users/sahand/Research/NeuroNet/Data/08-27-2017/Sim7_N1000_L100_S10_D50_T60000\n"
     ]
    },
    {
     "name": "stderr",
     "output_type": "stream",
     "text": [
      "/Users/sahand/anaconda/envs/python3/lib/python3.6/site-packages/matplotlib/pyplot.py:524: RuntimeWarning: More than 20 figures have been opened. Figures created through the pyplot interface (`matplotlib.pyplot.figure`) are retained until explicitly closed and may consume too much memory. (To control this warning, see the rcParam `figure.max_open_warning`).\n",
      "  max_open_warning, RuntimeWarning)\n"
     ]
    }
   ],
   "source": [
    "for simpath in simpaths:\n",
    "    print(simpath)\n",
    "    vis.FixPathsParallel(simpath)\n",
    "    vis.VisTimeSeries(simpath, neurons=[0,10,20,50,100,300,500],output='Save')\n",
    "    vis.VisTimeFreq(simpath, cuttoff=60, output = 'Save')\n",
    "    vis.VisAdjacencyMatrix(simpath, sort=True, output='Save')"
   ]
  },
  {
   "cell_type": "markdown",
   "metadata": {},
   "source": [
    "# Sample Simulation parameters"
   ]
  },
  {
   "cell_type": "code",
   "execution_count": null,
   "metadata": {
    "collapsed": true
   },
   "outputs": [],
   "source": [
    "simpath=simfolder"
   ]
  },
  {
   "cell_type": "code",
   "execution_count": null,
   "metadata": {},
   "outputs": [],
   "source": [
    "with open(simpath+\"/Parameters.json\", 'r') as file:\n",
    "    data = json.load(file)\n",
    "    data[\"DataFolder\"]=simpath\n",
    "vis.DictTable(data)"
   ]
  },
  {
   "cell_type": "code",
   "execution_count": null,
   "metadata": {
    "collapsed": true
   },
   "outputs": [],
   "source": [
    "datafolder=\"/Users/sahand/Research/NeuroNet/Data/08-25-2017/08-25-2017\"\n",
    "file = datafolder+\"/data0001.dat\""
   ]
  },
  {
   "cell_type": "code",
   "execution_count": null,
   "metadata": {
    "collapsed": true
   },
   "outputs": [],
   "source": [
    "data=vis.ReadFile(file, filenumber=1, perfile=100, threashold=40)"
   ]
  },
  {
   "cell_type": "code",
   "execution_count": null,
   "metadata": {
    "collapsed": true
   },
   "outputs": [],
   "source": [
    "sdata=np.array([item for sublist in data for item in sublist])"
   ]
  },
  {
   "cell_type": "markdown",
   "metadata": {},
   "source": [
    "# Debug Storage problem"
   ]
  },
  {
   "cell_type": "code",
   "execution_count": null,
   "metadata": {},
   "outputs": [],
   "source": [
    "datafolder=\"/Users/sahand/Research/NeuroNet/Data/08-25-2017/Sim6_N1000_L100_S10_D20_T60000\"\n",
    "vis.VisTimeFreq(datafolder, cuttoff=50, output = 'Show',figsize=(25,10))\n",
    "vis.VisTimeSeries(datafolder, neurons=[0,20,40,100,200,300,300],output='Show')"
   ]
  },
  {
   "cell_type": "code",
   "execution_count": null,
   "metadata": {
    "collapsed": true
   },
   "outputs": [],
   "source": []
  }
 ],
 "metadata": {
  "kernelspec": {
   "display_name": "Python 3",
   "language": "python",
   "name": "python3"
  },
  "language_info": {
   "codemirror_mode": {
    "name": "ipython",
    "version": 3
   },
   "file_extension": ".py",
   "mimetype": "text/x-python",
   "name": "python",
   "nbconvert_exporter": "python",
   "pygments_lexer": "ipython3",
   "version": "3.6.1"
  }
 },
 "nbformat": 4,
 "nbformat_minor": 2
}
