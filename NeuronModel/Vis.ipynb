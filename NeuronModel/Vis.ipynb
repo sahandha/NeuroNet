{
 "cells": [
  {
   "cell_type": "code",
   "execution_count": 1,
   "metadata": {
    "collapsed": true
   },
   "outputs": [],
   "source": [
    "from NeuronModel import *\n",
    "from Storage import *\n",
    "from Visualization import *\n",
    "import os"
   ]
  },
  {
   "cell_type": "markdown",
   "metadata": {},
   "source": [
    "# Fix File Paths and such"
   ]
  },
  {
   "cell_type": "code",
   "execution_count": 2,
   "metadata": {
    "collapsed": true
   },
   "outputs": [],
   "source": [
    "def FixPathsSerial(datafolder=\"/Users/sahand/Research/NeuroNet/Data/BW2\"):\n",
    "    folders = os.listdir(datafolder)\n",
    "    for f in folders:\n",
    "        visfolder = datafolder+\"/\"+f+\"/\"+\"Vis\"\n",
    "        if not os.path.exists(visfolder):\n",
    "            os.makedirs(visfolder)\n",
    "        with open(datafolder+\"/\"+f+\"/Parameters.json\", 'r') as file:\n",
    "            data = json.load(file)\n",
    "            data[\"DataFolder\"]=datafolder+\"/\"+f\n",
    "        with open(datafolder+\"/\"+f+\"/Parameters.json\", 'w') as file:\n",
    "            json.dump(data, file, indent=4, separators=(',', ': '))"
   ]
  },
  {
   "cell_type": "code",
   "execution_count": 3,
   "metadata": {
    "collapsed": true
   },
   "outputs": [],
   "source": [
    "def FixPathsParallel(datafolder=\"/Users/sahand/Research/NeuroNet/Data/Sim5_0626201\"):\n",
    "    folders = os.listdir(datafolder)\n",
    "    visfolder = datafolder+\"/\"+\"Vis\"\n",
    "    if not os.path.exists(visfolder):\n",
    "        os.makedirs(visfolder)\n",
    "    with open(datafolder+\"/Parameters.json\", 'r') as file:\n",
    "        data = json.load(file)\n",
    "        data[\"DataFolder\"]=datafolder\n",
    "    with open(datafolder+\"/Parameters.json\", 'w') as file:\n",
    "        json.dump(data, file, indent=4, separators=(',', ': '))"
   ]
  },
  {
   "cell_type": "code",
   "execution_count": 4,
   "metadata": {
    "collapsed": true
   },
   "outputs": [],
   "source": [
    "FixPathsParallel(datafolder='/Users/sahand/Research/NeuroNet/Data/07-16-2017/Sim0_N5120_L1000_S5_D5_T60000')"
   ]
  },
  {
   "cell_type": "markdown",
   "metadata": {},
   "source": [
    "# Render Visualization"
   ]
  },
  {
   "cell_type": "code",
   "execution_count": null,
   "metadata": {
    "collapsed": true
   },
   "outputs": [],
   "source": [
    "def VisualizeData(datafolder, FigNum, fileNumber=5):\n",
    "    storage = Storage.FromFile(datafolder+\"/Parameters.json\")\n",
    "    storage.ReadData(fileNumber=fileNumber)\n",
    "    brain = NeuronModel(N=storage._NumberOfNeurons, connectionscale=storage._ConnectionScale, synapselimit=storage._SynapseLimit, synapsestrengthlimit=storage._SynapseLimit, **storage._Parameters)\n",
    "    storage._Brain = brain\n",
    "    brain._Time = np.array(storage._time)\n",
    "    brain._VV = np.array(storage._FullData)\n",
    "    storage._NumberOfNeurons = np.shape(brain._VV)[1]\n",
    "    brain._NumberOfNeurons = np.shape(brain._VV)[1]\n",
    "    #storage.ReadNetworkData(datafolder+\"/Network.json\")\n",
    "    vis=Visualization(brain,FigNum)\n",
    "    \n",
    "    #print('\\t DegreeDistribution')\n",
    "    #vis.PlotDegreeDistribution(render=datafolder+'/Vis/DegreeDistribution.png')\n",
    "    #print('\\t Connectivity')\n",
    "    #vis.PlotConnectivityProperties(render=datafolder+'/Vis/Connectivity.png')\n",
    "    #print('\\t Adjacency')\n",
    "    #vis.PlotAdjacencyMatrix(render=datafolder+'/Vis/Adjacency.png')\n",
    "    print('\\t TimeFrequency')\n",
    "    vis.PlotTimeFrequencyDotPLT(cutoff=60, sorted=True, render=datafolder+'/Vis/TimeFrequency.png')\n",
    "    print('\\t individuals')\n",
    "    vis.PlotState(list(np.random.choice(range(100),5,replace=False)),render=datafolder+'/Vis/State.png')\n",
    "    vis.ClearPlot()\n",
    "    del storage\n",
    "    del brain\n",
    "    del vis"
   ]
  },
  {
   "cell_type": "code",
   "execution_count": null,
   "metadata": {
    "collapsed": true
   },
   "outputs": [],
   "source": [
    "VisualizeData(\"/Users/sahand/Research/NeuroNet/Data/Sim5_06262017\",1,fileNumber=20)"
   ]
  },
  {
   "cell_type": "markdown",
   "metadata": {},
   "source": [
    "# Run Visualization Process"
   ]
  },
  {
   "cell_type": "code",
   "execution_count": null,
   "metadata": {
    "collapsed": true
   },
   "outputs": [],
   "source": [
    "datafolder = \"/Users/sahand/Research/NeuroNet/Data/Sim5_06262017\"\n",
    "folders = os.listdir(datafolder)\n",
    "FigNum = 1\n",
    "name = datafolder\n",
    "print(\"working on \", name)\n",
    "try:\n",
    "    VisualizeData(name,FigNum)\n",
    "        \n",
    "except:\n",
    "    print(\"Problem with \",name) \n",
    "FigNum += 10"
   ]
  },
  {
   "cell_type": "code",
   "execution_count": null,
   "metadata": {
    "collapsed": true
   },
   "outputs": [],
   "source": [
    "VisualizeData(\"/Users/sahand/Research/NeuroNet/Data/Sim5_06262017\",1,fileNumber=5)"
   ]
  },
  {
   "cell_type": "markdown",
   "metadata": {},
   "source": [
    "# Keep this for later"
   ]
  },
  {
   "cell_type": "raw",
   "metadata": {
    "collapsed": true
   },
   "source": [
    "neurons=[0,1,2,49]\n",
    "vis.PlotState(neurons=neurons, render='/Users/sahand/Research/NeuroNet/Data/Vis/State.png')\n",
    "vis.DrawNetwork(render='/Users/sahand/Research/NeuroNet/Data/Vis/NetworkView.png')\n",
    "vis.PlotTimeFrequencyDotPLT(cutoff=50, sorted=True, render='/Users/sahand/Research/NeuroNet/Data/Vis/TimeFrequency.png')\n",
    "vis.PlotConnectivityProperties(render='/Users/sahand/Research/NeuroNet/Data/Vis/Connectivity.png')\n",
    "vis.PlotDegreeDistribution(render='/Users/sahand/Research/NeuroNet/Data/Vis/DegreeDistribution.png')\n",
    "vis.PlotAdjacencyMatrix(render='/Users/sahand/Research/NeuroNet/Data/Vis/Adjacency.png')"
   ]
  },
  {
   "cell_type": "code",
   "execution_count": null,
   "metadata": {
    "collapsed": true
   },
   "outputs": [],
   "source": [
    "M1 = np.array([[0,0,1],[0,1,1],[1,1,1]])\n",
    "M2 = np.array([[0,3,0],[2,0,0],[0,1,1]])"
   ]
  },
  {
   "cell_type": "code",
   "execution_count": null,
   "metadata": {
    "collapsed": true
   },
   "outputs": [],
   "source": [
    "ax1 = plt.subplot(131)\n",
    "p=ax1.pcolorfast(M1,cmap='Blues')\n",
    "plt.colorbar(p)\n",
    "plt.title('Unordered')\n",
    "plt.savefig('/Users/sahand/Research/NeuroNet/Data/Adjacency.png', bbox_inches='tight')\n",
    "plt.show()"
   ]
  },
  {
   "cell_type": "markdown",
   "metadata": {},
   "source": [
    "# Overlay Plots"
   ]
  },
  {
   "cell_type": "code",
   "execution_count": 28,
   "metadata": {
    "collapsed": true
   },
   "outputs": [],
   "source": [
    "import matplotlib.pyplot as plt"
   ]
  },
  {
   "cell_type": "code",
   "execution_count": 29,
   "metadata": {},
   "outputs": [
    {
     "data": {
      "image/png": "[encoded data removed]",
      "text/plain": [
       "<matplotlib.figure.Figure at 0x10c400748>"
      ]
     },
     "metadata": {},
     "output_type": "display_data"
    }
   ],
   "source": [
    "fig = plt.figure(frameon=False)\n",
    "ax = fig.add_subplot(2,1,1)\n",
    "ax.plot([1,2,3],[2,5,1])\n",
    "plt.show()"
   ]
  },
  {
   "cell_type": "code",
   "execution_count": 30,
   "metadata": {},
   "outputs": [
    {
     "data": {
      "text/plain": [
       "[<matplotlib.lines.Line2D at 0x10c4ea898>]"
      ]
     },
     "execution_count": 30,
     "metadata": {},
     "output_type": "execute_result"
    }
   ],
   "source": [
    "ax.plot([1,2,3],[3,4,5],rasterized=True)"
   ]
  },
  {
   "cell_type": "code",
   "execution_count": 32,
   "metadata": {
    "collapsed": true
   },
   "outputs": [],
   "source": [
    "plt.savefig(\"test2.png\")"
   ]
  },
  {
   "cell_type": "code",
   "execution_count": 20,
   "metadata": {
    "collapsed": true
   },
   "outputs": [],
   "source": [
    "import matplotlib"
   ]
  },
  {
   "cell_type": "code",
   "execution_count": 21,
   "metadata": {},
   "outputs": [
    {
     "name": "stdout",
     "output_type": "stream",
     "text": [
      "    aa = False\n",
      "    agg_filter = None\n",
      "    alpha = None\n",
      "    animated = False\n",
      "    antialiased or aa = False\n",
      "    axes = None\n",
      "    bbox = Bbox(x0=0.0, y0=0.0, x1=1.0, y1=1.0)\n",
      "    capstyle = butt\n",
      "    children = []\n",
      "    clip_box = None\n",
      "    clip_on = True\n",
      "    clip_path = None\n",
      "    contains = None\n",
      "    data_transform = BboxTransformTo(TransformedBbox(Bbox([[0.0, 0.0], ...\n",
      "    ec = (1.0, 1.0, 1.0, 0.0)\n",
      "    edgecolor or ec = (1.0, 1.0, 1.0, 0.0)\n",
      "    extents = Bbox(x0=0.0, y0=0.0, x1=432.0, y1=288.0)\n",
      "    facecolor or fc = (1.0, 1.0, 1.0, 0.0)\n",
      "    fc = (1.0, 1.0, 1.0, 0.0)\n",
      "    figure = Figure(432x288)\n",
      "    fill = True\n",
      "    gid = None\n",
      "    hatch = None\n",
      "    height = 1\n",
      "    joinstyle = miter\n",
      "    label = \n",
      "    linestyle or ls = solid\n",
      "    linewidth or lw = 0.0\n",
      "    ls = solid\n",
      "    lw = 0.0\n",
      "    patch_transform = CompositeGenericTransform(BboxTransformTo(Bbox([[0...\n",
      "    path = Path(array([[ 0.,  0.],        [ 1.,  0.],        ...\n",
      "    path_effects = []\n",
      "    picker = None\n",
      "    rasterized = None\n",
      "    sketch_params = None\n",
      "    snap = None\n",
      "    transform = CompositeGenericTransform(CompositeGenericTransfor...\n",
      "    transformed_clip_path_and_affine = (None, None)\n",
      "    url = None\n",
      "    verts = [[   0.    0.]  [ 432.    0.]  [ 432.  288.]  [   ...\n",
      "    visible = True\n",
      "    width = 1\n",
      "    window_extent = Bbox(x0=0.0, y0=0.0, x1=432.0, y1=288.0)\n",
      "    x = 0\n",
      "    xy = (0, 0)\n",
      "    y = 0\n",
      "    zorder = 1\n"
     ]
    }
   ],
   "source": [
    "matplotlib.artist.getp(fig.patch)"
   ]
  },
  {
   "cell_type": "code",
   "execution_count": 10,
   "metadata": {},
   "outputs": [
    {
     "data": {
      "image/png": "[encoded data removed]",
      "text/plain": [
       "<matplotlib.figure.Figure at 0x11a2b87f0>"
      ]
     },
     "metadata": {},
     "output_type": "display_data"
    }
   ],
   "source": [
    "plt.plot([1,2,3],[1,2,3],color=[0.7]*3)\n",
    "plt.show()"
   ]
  },
  {
   "cell_type": "code",
   "execution_count": 13,
   "metadata": {},
   "outputs": [
    {
     "data": {
      "text/plain": [
       "10240"
      ]
     },
     "execution_count": 13,
     "metadata": {},
     "output_type": "execute_result"
    }
   ],
   "source": [
    "2*5120"
   ]
  },
  {
   "cell_type": "code",
   "execution_count": null,
   "metadata": {
    "collapsed": true
   },
   "outputs": [],
   "source": []
  }
 ],
 "metadata": {
  "kernelspec": {
   "display_name": "Python 3",
   "language": "python",
   "name": "python3"
  },
  "language_info": {
   "codemirror_mode": {
    "name": "ipython",
    "version": 3
   },
   "file_extension": ".py",
   "mimetype": "text/x-python",
   "name": "python",
   "nbconvert_exporter": "python",
   "pygments_lexer": "ipython3",
   "version": "3.6.1"
  }
 },
 "nbformat": 4,
 "nbformat_minor": 2
}
