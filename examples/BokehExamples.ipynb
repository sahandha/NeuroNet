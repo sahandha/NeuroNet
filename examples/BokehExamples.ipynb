{
 "cells": [
  {
   "cell_type": "code",
   "execution_count": 1,
   "metadata": {
    "collapsed": false
   },
   "outputs": [
    {
     "data": {
      "text/html": [
       "\n",
       "    <div class=\"bk-root\">\n",
       "        <a href=\"http://bokeh.pydata.org\" target=\"_blank\" class=\"bk-logo bk-logo-small bk-logo-notebook\"></a>\n",
       "        <span id=\"4493597d-1745-4dea-8d1a-50fda6b16da0\">Loading BokehJS ...</span>\n",
       "    </div>"
      ]
     },
     "metadata": {},
     "output_type": "display_data"
    },
    {
     "data": {
      "application/javascript": [
       "\n",
       "(function(global) {\n",
       "  function now() {\n",
       "    return new Date();\n",
       "  }\n",
       "\n",
       "  var force = true;\n",
       "\n",
       "  if (typeof (window._bokeh_onload_callbacks) === \"undefined\" || force === true) {\n",
       "    window._bokeh_onload_callbacks = [];\n",
       "    window._bokeh_is_loading = undefined;\n",
       "  }\n",
       "\n",
       "\n",
       "  \n",
       "  if (typeof (window._bokeh_timeout) === \"undefined\" || force === true) {\n",
       "    window._bokeh_timeout = Date.now() + 5000;\n",
       "    window._bokeh_failed_load = false;\n",
       "  }\n",
       "\n",
       "  var NB_LOAD_WARNING = {'data': {'text/html':\n",
       "     \"<div style='background-color: #fdd'>\\n\"+\n",
       "     \"<p>\\n\"+\n",
       "     \"BokehJS does not appear to have successfully loaded. If loading BokehJS from CDN, this \\n\"+\n",
       "     \"may be due to a slow or bad network connection. Possible fixes:\\n\"+\n",
       "     \"</p>\\n\"+\n",
       "     \"<ul>\\n\"+\n",
       "     \"<li>re-rerun `output_notebook()` to attempt to load from CDN again, or</li>\\n\"+\n",
       "     \"<li>use INLINE resources instead, as so:</li>\\n\"+\n",
       "     \"</ul>\\n\"+\n",
       "     \"<code>\\n\"+\n",
       "     \"from bokeh.resources import INLINE\\n\"+\n",
       "     \"output_notebook(resources=INLINE)\\n\"+\n",
       "     \"</code>\\n\"+\n",
       "     \"</div>\"}};\n",
       "\n",
       "  function display_loaded() {\n",
       "    if (window.Bokeh !== undefined) {\n",
       "      document.getElementById(\"4493597d-1745-4dea-8d1a-50fda6b16da0\").textContent = \"BokehJS successfully loaded.\";\n",
       "    } else if (Date.now() < window._bokeh_timeout) {\n",
       "      setTimeout(display_loaded, 100)\n",
       "    }\n",
       "  }\n",
       "\n",
       "  function run_callbacks() {\n",
       "    window._bokeh_onload_callbacks.forEach(function(callback) { callback() });\n",
       "    delete window._bokeh_onload_callbacks\n",
       "    console.info(\"Bokeh: all callbacks have finished\");\n",
       "  }\n",
       "\n",
       "  function load_libs(js_urls, callback) {\n",
       "    window._bokeh_onload_callbacks.push(callback);\n",
       "    if (window._bokeh_is_loading > 0) {\n",
       "      console.log(\"Bokeh: BokehJS is being loaded, scheduling callback at\", now());\n",
       "      return null;\n",
       "    }\n",
       "    if (js_urls == null || js_urls.length === 0) {\n",
       "      run_callbacks();\n",
       "      return null;\n",
       "    }\n",
       "    console.log(\"Bokeh: BokehJS not loaded, scheduling load and callback at\", now());\n",
       "    window._bokeh_is_loading = js_urls.length;\n",
       "    for (var i = 0; i < js_urls.length; i++) {\n",
       "      var url = js_urls[i];\n",
       "      var s = document.createElement('script');\n",
       "      s.src = url;\n",
       "      s.async = false;\n",
       "      s.onreadystatechange = s.onload = function() {\n",
       "        window._bokeh_is_loading--;\n",
       "        if (window._bokeh_is_loading === 0) {\n",
       "          console.log(\"Bokeh: all BokehJS libraries loaded\");\n",
       "          run_callbacks()\n",
       "        }\n",
       "      };\n",
       "      s.onerror = function() {\n",
       "        console.warn(\"failed to load library \" + url);\n",
       "      };\n",
       "      console.log(\"Bokeh: injecting script tag for BokehJS library: \", url);\n",
       "      document.getElementsByTagName(\"head\")[0].appendChild(s);\n",
       "    }\n",
       "  };var element = document.getElementById(\"4493597d-1745-4dea-8d1a-50fda6b16da0\");\n",
       "  if (element == null) {\n",
       "    console.log(\"Bokeh: ERROR: autoload.js configured with elementid '4493597d-1745-4dea-8d1a-50fda6b16da0' but no matching script tag was found. \")\n",
       "    return false;\n",
       "  }\n",
       "\n",
       "  var js_urls = [\"https://cdn.pydata.org/bokeh/release/bokeh-0.12.4.min.js\", \"https://cdn.pydata.org/bokeh/release/bokeh-widgets-0.12.4.min.js\"];\n",
       "\n",
       "  var inline_js = [\n",
       "    function(Bokeh) {\n",
       "      Bokeh.set_log_level(\"info\");\n",
       "    },\n",
       "    \n",
       "    function(Bokeh) {\n",
       "      \n",
       "      document.getElementById(\"4493597d-1745-4dea-8d1a-50fda6b16da0\").textContent = \"BokehJS is loading...\";\n",
       "    },\n",
       "    function(Bokeh) {\n",
       "      console.log(\"Bokeh: injecting CSS: https://cdn.pydata.org/bokeh/release/bokeh-0.12.4.min.css\");\n",
       "      Bokeh.embed.inject_css(\"https://cdn.pydata.org/bokeh/release/bokeh-0.12.4.min.css\");\n",
       "      console.log(\"Bokeh: injecting CSS: https://cdn.pydata.org/bokeh/release/bokeh-widgets-0.12.4.min.css\");\n",
       "      Bokeh.embed.inject_css(\"https://cdn.pydata.org/bokeh/release/bokeh-widgets-0.12.4.min.css\");\n",
       "    }\n",
       "  ];\n",
       "\n",
       "  function run_inline_js() {\n",
       "    \n",
       "    if ((window.Bokeh !== undefined) || (force === true)) {\n",
       "      for (var i = 0; i < inline_js.length; i++) {\n",
       "        inline_js[i](window.Bokeh);\n",
       "      }if (force === true) {\n",
       "        display_loaded();\n",
       "      }} else if (Date.now() < window._bokeh_timeout) {\n",
       "      setTimeout(run_inline_js, 100);\n",
       "    } else if (!window._bokeh_failed_load) {\n",
       "      console.log(\"Bokeh: BokehJS failed to load within specified timeout.\");\n",
       "      window._bokeh_failed_load = true;\n",
       "    } else if (force !== true) {\n",
       "      var cell = $(document.getElementById(\"4493597d-1745-4dea-8d1a-50fda6b16da0\")).parents('.cell').data().cell;\n",
       "      cell.output_area.append_execute_result(NB_LOAD_WARNING)\n",
       "    }\n",
       "\n",
       "  }\n",
       "\n",
       "  if (window._bokeh_is_loading === 0) {\n",
       "    console.log(\"Bokeh: BokehJS loaded, going straight to plotting\");\n",
       "    run_inline_js();\n",
       "  } else {\n",
       "    load_libs(js_urls, function() {\n",
       "      console.log(\"Bokeh: BokehJS plotting callback run at\", now());\n",
       "      run_inline_js();\n",
       "    });\n",
       "  }\n",
       "}(this));"
      ]
     },
     "metadata": {},
     "output_type": "display_data"
    }
   ],
   "source": [
    "from bokeh.io import output_notebook\n",
    "output_notebook()"
   ]
  },
  {
   "cell_type": "code",
   "execution_count": 2,
   "metadata": {
    "collapsed": false
   },
   "outputs": [
    {
     "data": {
      "text/html": [
       "\n",
       "\n",
       "    <div class=\"bk-root\">\n",
       "        <div class=\"bk-plotdiv\" id=\"4e42d677-a6b2-40e6-a820-ea04a2a2f4d3\"></div>\n",
       "    </div>\n",
       "<script type=\"text/javascript\">\n",
       "  \n",
       "  (function(global) {\n",
       "    function now() {\n",
       "      return new Date();\n",
       "    }\n",
       "  \n",
       "    var force = false;\n",
       "  \n",
       "    if (typeof (window._bokeh_onload_callbacks) === \"undefined\" || force === true) {\n",
       "      window._bokeh_onload_callbacks = [];\n",
       "      window._bokeh_is_loading = undefined;\n",
       "    }\n",
       "  \n",
       "  \n",
       "    \n",
       "    if (typeof (window._bokeh_timeout) === \"undefined\" || force === true) {\n",
       "      window._bokeh_timeout = Date.now() + 0;\n",
       "      window._bokeh_failed_load = false;\n",
       "    }\n",
       "  \n",
       "    var NB_LOAD_WARNING = {'data': {'text/html':\n",
       "       \"<div style='background-color: #fdd'>\\n\"+\n",
       "       \"<p>\\n\"+\n",
       "       \"BokehJS does not appear to have successfully loaded. If loading BokehJS from CDN, this \\n\"+\n",
       "       \"may be due to a slow or bad network connection. Possible fixes:\\n\"+\n",
       "       \"</p>\\n\"+\n",
       "       \"<ul>\\n\"+\n",
       "       \"<li>re-rerun `output_notebook()` to attempt to load from CDN again, or</li>\\n\"+\n",
       "       \"<li>use INLINE resources instead, as so:</li>\\n\"+\n",
       "       \"</ul>\\n\"+\n",
       "       \"<code>\\n\"+\n",
       "       \"from bokeh.resources import INLINE\\n\"+\n",
       "       \"output_notebook(resources=INLINE)\\n\"+\n",
       "       \"</code>\\n\"+\n",
       "       \"</div>\"}};\n",
       "  \n",
       "    function display_loaded() {\n",
       "      if (window.Bokeh !== undefined) {\n",
       "        document.getElementById(\"4e42d677-a6b2-40e6-a820-ea04a2a2f4d3\").textContent = \"BokehJS successfully loaded.\";\n",
       "      } else if (Date.now() < window._bokeh_timeout) {\n",
       "        setTimeout(display_loaded, 100)\n",
       "      }\n",
       "    }\n",
       "  \n",
       "    function run_callbacks() {\n",
       "      window._bokeh_onload_callbacks.forEach(function(callback) { callback() });\n",
       "      delete window._bokeh_onload_callbacks\n",
       "      console.info(\"Bokeh: all callbacks have finished\");\n",
       "    }\n",
       "  \n",
       "    function load_libs(js_urls, callback) {\n",
       "      window._bokeh_onload_callbacks.push(callback);\n",
       "      if (window._bokeh_is_loading > 0) {\n",
       "        console.log(\"Bokeh: BokehJS is being loaded, scheduling callback at\", now());\n",
       "        return null;\n",
       "      }\n",
       "      if (js_urls == null || js_urls.length === 0) {\n",
       "        run_callbacks();\n",
       "        return null;\n",
       "      }\n",
       "      console.log(\"Bokeh: BokehJS not loaded, scheduling load and callback at\", now());\n",
       "      window._bokeh_is_loading = js_urls.length;\n",
       "      for (var i = 0; i < js_urls.length; i++) {\n",
       "        var url = js_urls[i];\n",
       "        var s = document.createElement('script');\n",
       "        s.src = url;\n",
       "        s.async = false;\n",
       "        s.onreadystatechange = s.onload = function() {\n",
       "          window._bokeh_is_loading--;\n",
       "          if (window._bokeh_is_loading === 0) {\n",
       "            console.log(\"Bokeh: all BokehJS libraries loaded\");\n",
       "            run_callbacks()\n",
       "          }\n",
       "        };\n",
       "        s.onerror = function() {\n",
       "          console.warn(\"failed to load library \" + url);\n",
       "        };\n",
       "        console.log(\"Bokeh: injecting script tag for BokehJS library: \", url);\n",
       "        document.getElementsByTagName(\"head\")[0].appendChild(s);\n",
       "      }\n",
       "    };var element = document.getElementById(\"4e42d677-a6b2-40e6-a820-ea04a2a2f4d3\");\n",
       "    if (element == null) {\n",
       "      console.log(\"Bokeh: ERROR: autoload.js configured with elementid '4e42d677-a6b2-40e6-a820-ea04a2a2f4d3' but no matching script tag was found. \")\n",
       "      return false;\n",
       "    }\n",
       "  \n",
       "    var js_urls = [];\n",
       "  \n",
       "    var inline_js = [\n",
       "      function(Bokeh) {\n",
       "        (function() {\n",
       "          var fn = function() {\n",
       "            var docs_json = {\"410d8077-4bbc-49dc-aa49-9b5c254e2172\":{\"roots\":{\"references\":[{\"attributes\":{\"fill_alpha\":{\"value\":0.1},\"fill_color\":{\"value\":\"#1f77b4\"},\"line_alpha\":{\"value\":0.1},\"line_color\":{\"value\":\"#1f77b4\"},\"line_width\":{\"value\":5},\"x\":{\"field\":\"x\"},\"y\":{\"value\":1}},\"id\":\"63896432-8c78-46a6-8970-0890134e457d\",\"type\":\"Circle\"},{\"attributes\":{\"axis_label\":\"x\",\"formatter\":{\"id\":\"4d686b39-1819-4480-a2c5-20da7f42d28d\",\"type\":\"BasicTickFormatter\"},\"plot\":{\"id\":\"00158e4d-cfd3-47a4-aeec-ad6d8a8f0646\",\"subtype\":\"Figure\",\"type\":\"Plot\"},\"ticker\":{\"id\":\"2e496b39-0e39-4806-87ca-bf920cfaa825\",\"type\":\"BasicTicker\"}},\"id\":\"52b1c074-1868-478f-9b6f-b75c9ba73666\",\"type\":\"LinearAxis\"},{\"attributes\":{},\"id\":\"2e496b39-0e39-4806-87ca-bf920cfaa825\",\"type\":\"BasicTicker\"},{\"attributes\":{\"plot\":{\"id\":\"00158e4d-cfd3-47a4-aeec-ad6d8a8f0646\",\"subtype\":\"Figure\",\"type\":\"Plot\"},\"ticker\":{\"id\":\"2e496b39-0e39-4806-87ca-bf920cfaa825\",\"type\":\"BasicTicker\"}},\"id\":\"c7ff0f49-742b-4f09-9bb7-ed1b9d8a4c79\",\"type\":\"Grid\"},{\"attributes\":{\"axis_label\":\"y\",\"formatter\":{\"id\":\"e45ed6d4-1392-4cfd-a99a-ab21388b7062\",\"type\":\"BasicTickFormatter\"},\"plot\":{\"id\":\"00158e4d-cfd3-47a4-aeec-ad6d8a8f0646\",\"subtype\":\"Figure\",\"type\":\"Plot\"},\"ticker\":{\"id\":\"2ba48e8f-eae9-429d-922e-24d53b0d0429\",\"type\":\"BasicTicker\"}},\"id\":\"e0923327-b8fd-4155-9e6e-c3fb4c3c4c85\",\"type\":\"LinearAxis\"},{\"attributes\":{},\"id\":\"2ba48e8f-eae9-429d-922e-24d53b0d0429\",\"type\":\"BasicTicker\"},{\"attributes\":{\"dimension\":1,\"plot\":{\"id\":\"00158e4d-cfd3-47a4-aeec-ad6d8a8f0646\",\"subtype\":\"Figure\",\"type\":\"Plot\"},\"ticker\":{\"id\":\"2ba48e8f-eae9-429d-922e-24d53b0d0429\",\"type\":\"BasicTicker\"}},\"id\":\"bbad2ec7-c87c-4244-a1f5-89eb2af25d25\",\"type\":\"Grid\"},{\"attributes\":{\"bottom_units\":\"screen\",\"fill_alpha\":{\"value\":0.5},\"fill_color\":{\"value\":\"lightgrey\"},\"left_units\":\"screen\",\"level\":\"overlay\",\"line_alpha\":{\"value\":1.0},\"line_color\":{\"value\":\"black\"},\"line_dash\":[4,4],\"line_width\":{\"value\":2},\"plot\":null,\"render_mode\":\"css\",\"right_units\":\"screen\",\"top_units\":\"screen\"},\"id\":\"9cc3ce17-2b82-4148-89d9-3aa8fbca1c3b\",\"type\":\"BoxAnnotation\"},{\"attributes\":{\"plot\":{\"id\":\"00158e4d-cfd3-47a4-aeec-ad6d8a8f0646\",\"subtype\":\"Figure\",\"type\":\"Plot\"}},\"id\":\"45dbc5f5-0e59-4ce7-8a9f-44cb2535a524\",\"type\":\"PanTool\"},{\"attributes\":{\"data_source\":{\"id\":\"352d0ff0-c579-43cc-9dd9-978b5f492644\",\"type\":\"ColumnDataSource\"},\"glyph\":{\"id\":\"fe35a52f-642c-4f0b-8c10-3e83029adc21\",\"type\":\"Circle\"},\"hover_glyph\":null,\"nonselection_glyph\":{\"id\":\"63896432-8c78-46a6-8970-0890134e457d\",\"type\":\"Circle\"},\"selection_glyph\":null},\"id\":\"9923dff3-a85a-4b9f-86bb-bdb6632880bc\",\"type\":\"GlyphRenderer\"},{\"attributes\":{\"plot\":{\"id\":\"00158e4d-cfd3-47a4-aeec-ad6d8a8f0646\",\"subtype\":\"Figure\",\"type\":\"Plot\"}},\"id\":\"eed5f858-2742-4809-9b1b-64db2952c6cb\",\"type\":\"WheelZoomTool\"},{\"attributes\":{\"overlay\":{\"id\":\"9cc3ce17-2b82-4148-89d9-3aa8fbca1c3b\",\"type\":\"BoxAnnotation\"},\"plot\":{\"id\":\"00158e4d-cfd3-47a4-aeec-ad6d8a8f0646\",\"subtype\":\"Figure\",\"type\":\"Plot\"}},\"id\":\"ef05102d-2942-4d3b-aaa4-1834e669b9ed\",\"type\":\"BoxZoomTool\"},{\"attributes\":{\"plot\":{\"id\":\"00158e4d-cfd3-47a4-aeec-ad6d8a8f0646\",\"subtype\":\"Figure\",\"type\":\"Plot\"}},\"id\":\"5dfe9d1b-12f9-40c6-885e-44623853626c\",\"type\":\"SaveTool\"},{\"attributes\":{\"plot\":{\"id\":\"00158e4d-cfd3-47a4-aeec-ad6d8a8f0646\",\"subtype\":\"Figure\",\"type\":\"Plot\"}},\"id\":\"bac18e6e-715e-4a64-812c-f1d312d2223d\",\"type\":\"ResetTool\"},{\"attributes\":{\"fill_color\":{\"value\":\"#1f77b4\"},\"line_color\":{\"value\":\"#1f77b4\"},\"line_width\":{\"value\":5},\"x\":{\"field\":\"x\"},\"y\":{\"value\":1}},\"id\":\"fe35a52f-642c-4f0b-8c10-3e83029adc21\",\"type\":\"Circle\"},{\"attributes\":{\"below\":[{\"id\":\"52b1c074-1868-478f-9b6f-b75c9ba73666\",\"type\":\"LinearAxis\"}],\"left\":[{\"id\":\"e0923327-b8fd-4155-9e6e-c3fb4c3c4c85\",\"type\":\"LinearAxis\"}],\"renderers\":[{\"id\":\"52b1c074-1868-478f-9b6f-b75c9ba73666\",\"type\":\"LinearAxis\"},{\"id\":\"c7ff0f49-742b-4f09-9bb7-ed1b9d8a4c79\",\"type\":\"Grid\"},{\"id\":\"e0923327-b8fd-4155-9e6e-c3fb4c3c4c85\",\"type\":\"LinearAxis\"},{\"id\":\"bbad2ec7-c87c-4244-a1f5-89eb2af25d25\",\"type\":\"Grid\"},{\"id\":\"9cc3ce17-2b82-4148-89d9-3aa8fbca1c3b\",\"type\":\"BoxAnnotation\"},{\"id\":\"9923dff3-a85a-4b9f-86bb-bdb6632880bc\",\"type\":\"GlyphRenderer\"},{\"id\":\"76edaa66-b034-4f58-b4e4-9095c3f5327d\",\"type\":\"GlyphRenderer\"},{\"id\":\"48521004-c8cc-4041-ba7d-ed6007ad6bd2\",\"type\":\"GlyphRenderer\"}],\"title\":{\"id\":\"ba0c437a-3a98-4e53-826e-4b1dabae07f6\",\"type\":\"Title\"},\"tool_events\":{\"id\":\"48464f28-6604-4595-a5a3-86155e26b28f\",\"type\":\"ToolEvents\"},\"toolbar\":{\"id\":\"d8d87970-7b2e-489d-bb8b-5b8c536400bd\",\"type\":\"Toolbar\"},\"x_range\":{\"id\":\"29edad90-07d1-4469-b004-d109f4fa4224\",\"type\":\"DataRange1d\"},\"y_range\":{\"id\":\"7c82e640-4931-4522-8367-f4bcc81c42ba\",\"type\":\"DataRange1d\"}},\"id\":\"00158e4d-cfd3-47a4-aeec-ad6d8a8f0646\",\"subtype\":\"Figure\",\"type\":\"Plot\"},{\"attributes\":{\"callback\":null,\"column_names\":[\"x\"],\"data\":{\"x\":[1,3,5,8,10]}},\"id\":\"2033852b-be0c-43a7-a110-fa87440edc1a\",\"type\":\"ColumnDataSource\"},{\"attributes\":{\"plot\":{\"id\":\"00158e4d-cfd3-47a4-aeec-ad6d8a8f0646\",\"subtype\":\"Figure\",\"type\":\"Plot\"}},\"id\":\"cc2f3852-c65b-4684-802e-9d627464df4f\",\"type\":\"HelpTool\"},{\"attributes\":{\"callback\":null,\"column_names\":[\"x\"],\"data\":{\"x\":[1,2,3,4,5]}},\"id\":\"352d0ff0-c579-43cc-9dd9-978b5f492644\",\"type\":\"ColumnDataSource\"},{\"attributes\":{\"callback\":null,\"column_names\":[\"x\"],\"data\":{\"x\":[1,2,3,8,9]}},\"id\":\"201ce0d7-4faa-48d2-82f1-0a3b9516ec6e\",\"type\":\"ColumnDataSource\"},{\"attributes\":{\"data_source\":{\"id\":\"201ce0d7-4faa-48d2-82f1-0a3b9516ec6e\",\"type\":\"ColumnDataSource\"},\"glyph\":{\"id\":\"db4de800-a1aa-4e6a-9fad-24d2bf70fe45\",\"type\":\"Circle\"},\"hover_glyph\":null,\"nonselection_glyph\":{\"id\":\"cc3048b9-a16b-489e-8c57-ff03902a881e\",\"type\":\"Circle\"},\"selection_glyph\":null},\"id\":\"76edaa66-b034-4f58-b4e4-9095c3f5327d\",\"type\":\"GlyphRenderer\"},{\"attributes\":{\"plot\":null,\"text\":\"simple line example\"},\"id\":\"ba0c437a-3a98-4e53-826e-4b1dabae07f6\",\"type\":\"Title\"},{\"attributes\":{},\"id\":\"e45ed6d4-1392-4cfd-a99a-ab21388b7062\",\"type\":\"BasicTickFormatter\"},{\"attributes\":{\"callback\":null},\"id\":\"29edad90-07d1-4469-b004-d109f4fa4224\",\"type\":\"DataRange1d\"},{\"attributes\":{\"fill_alpha\":{\"value\":0.1},\"fill_color\":{\"value\":\"#1f77b4\"},\"line_alpha\":{\"value\":0.1},\"line_color\":{\"value\":\"#1f77b4\"},\"line_width\":{\"value\":5},\"x\":{\"field\":\"x\"},\"y\":{\"value\":2}},\"id\":\"cc3048b9-a16b-489e-8c57-ff03902a881e\",\"type\":\"Circle\"},{\"attributes\":{\"fill_color\":{\"value\":\"#1f77b4\"},\"line_color\":{\"value\":\"#1f77b4\"},\"line_width\":{\"value\":5},\"x\":{\"field\":\"x\"},\"y\":{\"value\":3}},\"id\":\"92e71403-283b-4bd2-8d8c-fb84be0b4c08\",\"type\":\"Circle\"},{\"attributes\":{\"data_source\":{\"id\":\"2033852b-be0c-43a7-a110-fa87440edc1a\",\"type\":\"ColumnDataSource\"},\"glyph\":{\"id\":\"92e71403-283b-4bd2-8d8c-fb84be0b4c08\",\"type\":\"Circle\"},\"hover_glyph\":null,\"nonselection_glyph\":{\"id\":\"2d5a0ff5-c580-41ef-8cdd-5378577c4420\",\"type\":\"Circle\"},\"selection_glyph\":null},\"id\":\"48521004-c8cc-4041-ba7d-ed6007ad6bd2\",\"type\":\"GlyphRenderer\"},{\"attributes\":{\"callback\":null},\"id\":\"7c82e640-4931-4522-8367-f4bcc81c42ba\",\"type\":\"DataRange1d\"},{\"attributes\":{\"fill_alpha\":{\"value\":0.1},\"fill_color\":{\"value\":\"#1f77b4\"},\"line_alpha\":{\"value\":0.1},\"line_color\":{\"value\":\"#1f77b4\"},\"line_width\":{\"value\":5},\"x\":{\"field\":\"x\"},\"y\":{\"value\":3}},\"id\":\"2d5a0ff5-c580-41ef-8cdd-5378577c4420\",\"type\":\"Circle\"},{\"attributes\":{},\"id\":\"48464f28-6604-4595-a5a3-86155e26b28f\",\"type\":\"ToolEvents\"},{\"attributes\":{},\"id\":\"4d686b39-1819-4480-a2c5-20da7f42d28d\",\"type\":\"BasicTickFormatter\"},{\"attributes\":{\"active_drag\":\"auto\",\"active_scroll\":\"auto\",\"active_tap\":\"auto\",\"tools\":[{\"id\":\"45dbc5f5-0e59-4ce7-8a9f-44cb2535a524\",\"type\":\"PanTool\"},{\"id\":\"eed5f858-2742-4809-9b1b-64db2952c6cb\",\"type\":\"WheelZoomTool\"},{\"id\":\"ef05102d-2942-4d3b-aaa4-1834e669b9ed\",\"type\":\"BoxZoomTool\"},{\"id\":\"5dfe9d1b-12f9-40c6-885e-44623853626c\",\"type\":\"SaveTool\"},{\"id\":\"bac18e6e-715e-4a64-812c-f1d312d2223d\",\"type\":\"ResetTool\"},{\"id\":\"cc2f3852-c65b-4684-802e-9d627464df4f\",\"type\":\"HelpTool\"}]},\"id\":\"d8d87970-7b2e-489d-bb8b-5b8c536400bd\",\"type\":\"Toolbar\"},{\"attributes\":{\"fill_color\":{\"value\":\"#1f77b4\"},\"line_color\":{\"value\":\"#1f77b4\"},\"line_width\":{\"value\":5},\"x\":{\"field\":\"x\"},\"y\":{\"value\":2}},\"id\":\"db4de800-a1aa-4e6a-9fad-24d2bf70fe45\",\"type\":\"Circle\"}],\"root_ids\":[\"00158e4d-cfd3-47a4-aeec-ad6d8a8f0646\"]},\"title\":\"Bokeh Application\",\"version\":\"0.12.4\"}};\n",
       "            var render_items = [{\"docid\":\"410d8077-4bbc-49dc-aa49-9b5c254e2172\",\"elementid\":\"4e42d677-a6b2-40e6-a820-ea04a2a2f4d3\",\"modelid\":\"00158e4d-cfd3-47a4-aeec-ad6d8a8f0646\"}];\n",
       "            \n",
       "            Bokeh.embed.embed_items(docs_json, render_items);\n",
       "          };\n",
       "          if (document.readyState != \"loading\") fn();\n",
       "          else document.addEventListener(\"DOMContentLoaded\", fn);\n",
       "        })();\n",
       "      },\n",
       "      function(Bokeh) {\n",
       "      }\n",
       "    ];\n",
       "  \n",
       "    function run_inline_js() {\n",
       "      \n",
       "      if ((window.Bokeh !== undefined) || (force === true)) {\n",
       "        for (var i = 0; i < inline_js.length; i++) {\n",
       "          inline_js[i](window.Bokeh);\n",
       "        }if (force === true) {\n",
       "          display_loaded();\n",
       "        }} else if (Date.now() < window._bokeh_timeout) {\n",
       "        setTimeout(run_inline_js, 100);\n",
       "      } else if (!window._bokeh_failed_load) {\n",
       "        console.log(\"Bokeh: BokehJS failed to load within specified timeout.\");\n",
       "        window._bokeh_failed_load = true;\n",
       "      } else if (force !== true) {\n",
       "        var cell = $(document.getElementById(\"4e42d677-a6b2-40e6-a820-ea04a2a2f4d3\")).parents('.cell').data().cell;\n",
       "        cell.output_area.append_execute_result(NB_LOAD_WARNING)\n",
       "      }\n",
       "  \n",
       "    }\n",
       "  \n",
       "    if (window._bokeh_is_loading === 0) {\n",
       "      console.log(\"Bokeh: BokehJS loaded, going straight to plotting\");\n",
       "      run_inline_js();\n",
       "    } else {\n",
       "      load_libs(js_urls, function() {\n",
       "        console.log(\"Bokeh: BokehJS plotting callback run at\", now());\n",
       "        run_inline_js();\n",
       "      });\n",
       "    }\n",
       "  }(this));\n",
       "</script>"
      ]
     },
     "metadata": {},
     "output_type": "display_data"
    }
   ],
   "source": [
    "from bokeh.plotting import figure, show\n",
    "\n",
    "# prepare some data\n",
    "x1 = [1, 2, 3, 4, 5]\n",
    "x2 = [1, 2, 3, 8, 9]\n",
    "x3 = [1, 3, 5, 8, 10]\n",
    "\n",
    "# create a new plot with a title and axis labels\n",
    "p = figure(title=\"simple line example\", x_axis_label='x', y_axis_label='y')\n",
    "\n",
    "# add a line renderer with legend and line thickness\n",
    "p.circle(x1,1, line_width=5)\n",
    "p.circle(x2,2, line_width=5)\n",
    "p.circle(x3,3, line_width=5)\n",
    "\n",
    "\n",
    "# show the results\n",
    "show(p)"
   ]
  },
  {
   "cell_type": "code",
   "execution_count": 4,
   "metadata": {
    "collapsed": false
   },
   "outputs": [],
   "source": [
    "A = [(1,2),(3,4)]"
   ]
  },
  {
   "cell_type": "code",
   "execution_count": 9,
   "metadata": {
    "collapsed": false
   },
   "outputs": [
    {
     "data": {
      "text/plain": [
       "(3, 4)"
      ]
     },
     "execution_count": 9,
     "metadata": {},
     "output_type": "execute_result"
    }
   ],
   "source": [
    "A[1][:]"
   ]
  },
  {
   "cell_type": "code",
   "execution_count": 16,
   "metadata": {
    "collapsed": true
   },
   "outputs": [],
   "source": [
    "import matplotlib.pylab as plt\n",
    "import numpy as np"
   ]
  },
  {
   "cell_type": "code",
   "execution_count": 17,
   "metadata": {
    "collapsed": true
   },
   "outputs": [],
   "source": [
    "x1 = [1, 2, 3, 4, 5]\n",
    "x2 = [1, 2, 3, 8, 9]\n",
    "x3 = [1, 3, 5, 8, 10]"
   ]
  },
  {
   "cell_type": "code",
   "execution_count": 24,
   "metadata": {
    "collapsed": false
   },
   "outputs": [
    {
     "data": {
      "image/png": "[encoded data removed]",
      "text/plain": [
       "<matplotlib.figure.Figure at 0x115df6f60>"
      ]
     },
     "metadata": {},
     "output_type": "display_data"
    }
   ],
   "source": [
    "plt.plot(x1,1*np.ones_like(x1),'o')\n",
    "plt.plot(x1,2*np.ones_like(x1),'o')\n",
    "plt.plot(x3,3*np.ones_like(x1),'o')\n",
    "plt.show()"
   ]
  },
  {
   "cell_type": "code",
   "execution_count": null,
   "metadata": {
    "collapsed": true
   },
   "outputs": [],
   "source": []
  }
 ],
 "metadata": {
  "kernelspec": {
   "display_name": "Python 3",
   "language": "python",
   "name": "python3"
  },
  "language_info": {
   "codemirror_mode": {
    "name": "ipython",
    "version": 3
   },
   "file_extension": ".py",
   "mimetype": "text/x-python",
   "name": "python",
   "nbconvert_exporter": "python",
   "pygments_lexer": "ipython3",
   "version": "3.6.0"
  }
 },
 "nbformat": 4,
 "nbformat_minor": 2
}
