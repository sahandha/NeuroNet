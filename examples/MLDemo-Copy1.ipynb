{
 "cells": [
  {
   "cell_type": "code",
   "execution_count": null,
   "metadata": {
    "collapsed": false
   },
   "outputs": [],
   "source": [
    "%%javascript\n",
    "IPython.OutputArea.auto_scroll_threshold = 9999;"
   ]
  },
  {
   "cell_type": "code",
   "execution_count": null,
   "metadata": {
    "collapsed": false
   },
   "outputs": [],
   "source": [
    "%config InlineBackend.figure_formats=['svg']\n",
    "from NeuroNet import *\n",
    "import time\n",
    "from bokeh.io import output_notebook\n",
    "output_notebook()"
   ]
  },
  {
   "cell_type": "code",
   "execution_count": null,
   "metadata": {
    "collapsed": false
   },
   "outputs": [],
   "source": [
    "eps  = 1\n",
    "tend = 1000*eps\n",
    "dt   = 0.1*eps\n",
    "\n",
    "numNeurons = 100\n",
    "displaynum = min(10,numNeurons)\n",
    "neurons = []\n",
    "\n",
    "for i in range(numNeurons):\n",
    "    C   =  np.random.normal(20,.0)\n",
    "    gL  =  np.random.normal(2.0,0.0)\n",
    "    gCa =  np.random.normal(4.4,0.0)\n",
    "    gK  =  np.random.normal(8,0.0)\n",
    "    VL  =  np.random.normal(-60,.0)\n",
    "    VCa =  np.random.normal(120,.0)\n",
    "    VK  =  np.random.normal(-84,.0)\n",
    "    V1  =  np.random.normal(-1.2,0.0)\n",
    "    V2  =  np.random.normal(18.0,0.0)\n",
    "    V3  =  np.random.normal(2.0,0.0)\n",
    "    V4  =  np.random.normal(30.0,.0)\n",
    "    phi =  np.random.normal(0.04,0.0)\n",
    "    \n",
    "    if i==0:\n",
    "        I=0\n",
    "    else:\n",
    "        I=0\n",
    "    n = Neuron(i,dt=dt,tend=tend,C=C,gL=gL,gCa=gCa,gK=gK,VL=VL,VCa=VCa,VK=VK,V1=V1,V2=V2,V3=V3,V4=V4,phi=phi,I=I,eps=1)\n",
    "    n._CellType = np.random.choice([-1,1,1,1,1])\n",
    "    n._SynapticStrength = 1/(10*numNeurons)\n",
    "    n.Initialize([-20,0.3])\n",
    "    n.SetNoise(0,0.001)\n",
    "    n.SetFlow(n.MLFlow)\n",
    "    n.SetSynapseLimit(np.random.uniform(980,1020))\n",
    "    neurons.append(n)\n",
    "    \n",
    "b = Brain(neurons=neurons,dt=dt,tend=tend,connectionscale=10000)\n",
    "b.DevelopSynapseNetwork(10000)\n",
    "b.Simulate()\n",
    "#%prun b.Simulate()"
   ]
  },
  {
   "cell_type": "code",
   "execution_count": null,
   "metadata": {
    "collapsed": false
   },
   "outputs": [],
   "source": [
    "a = np.array([1,1,2])\n",
    "b = np.array([2,3,4])\n",
    "c = np.concatenate((a,b))\n",
    "c"
   ]
  },
  {
   "cell_type": "code",
   "execution_count": null,
   "metadata": {
    "collapsed": false
   },
   "outputs": [],
   "source": [
    "np.random.normal(0,1,size=10)"
   ]
  },
  {
   "cell_type": "code",
   "execution_count": null,
   "metadata": {
    "collapsed": false,
    "slideshow": {
     "slide_type": "slide"
    }
   },
   "outputs": [],
   "source": [
    "plt.rcParams[\"figure.figsize\"] = (8,8)\n",
    "vis = Visualization(network=b._Network,neurons=b._Neurons, synapsecount=b._SynapseCountHistory)\n",
    "vis._EdgeLabels = b._EdgeLabels\n",
    "vis._NetworkEdgeWeightFactor = .5\n",
    "#vis.DrawNetwork(edgelabels=False)\n",
    "vis.RenderGraphics()"
   ]
  },
  {
   "cell_type": "code",
   "execution_count": null,
   "metadata": {
    "collapsed": false,
    "scrolled": false,
    "slideshow": {
     "slide_type": "slide"
    }
   },
   "outputs": [],
   "source": [
    "plt.rcParams[\"figure.figsize\"] = (16,7)\n",
    "vis.PlotTimeFrequency()\n",
    "vis.RenderGraphics()"
   ]
  },
  {
   "cell_type": "code",
   "execution_count": null,
   "metadata": {
    "collapsed": false,
    "scrolled": false
   },
   "outputs": [],
   "source": [
    "vis.PlotTimeFrequencyDot(plot_height=600, plot_width=1000, radius=5, cutoff=30, sorted=True)"
   ]
  },
  {
   "cell_type": "code",
   "execution_count": null,
   "metadata": {
    "collapsed": false,
    "slideshow": {
     "slide_type": "slide"
    }
   },
   "outputs": [],
   "source": [
    "plt.rcParams[\"figure.figsize\"] = (13, 2)\n",
    "b.CollectActiveNeurons()\n",
    "ActiveNeurons = b._ActiveNeurons;\n",
    "numberToShow = min(5,len(ActiveNeurons))\n",
    "for n in range(numberToShow):\n",
    "    ActiveNeurons[n].PlotState(states={0:\"V\"},legend=[\"Voltage\"],colors=[[0.8,0.5,0.4]]);\n",
    "print(\"Displaying {} active neurons. {} more active neurons are present.\".format(numberToShow,len(ActiveNeurons)-numberToShow))\n",
    "\n",
    "InactiveNeurons = b._InactiveNeurons;\n",
    "numberToShow = min(2,len(InactiveNeurons))\n",
    "for n in range(numberToShow):\n",
    "    InactiveNeurons[n].PlotState(states={0:\"V\"},legend=[\"Voltage\"],colors=[[0.8,0.5,0.4]]);\n",
    "print(\"Displaying {} inactive neurons. {} more inactive neurons are present.\".format(numberToShow,len(InactiveNeurons)-numberToShow))\n",
    "vis.RenderGraphics()"
   ]
  },
  {
   "cell_type": "code",
   "execution_count": null,
   "metadata": {
    "collapsed": false
   },
   "outputs": [],
   "source": [
    "plt.rcParams[\"figure.figsize\"] = (6,5)\n",
    "b._Neurons[0].PlotPhase(states={0:'V',1:'N'},color=[0.6,0.2,0.2])"
   ]
  },
  {
   "cell_type": "code",
   "execution_count": null,
   "metadata": {
    "collapsed": false
   },
   "outputs": [],
   "source": [
    "plt.plot(b._Neurons[3]._II)\n",
    "plt.show()"
   ]
  },
  {
   "cell_type": "code",
   "execution_count": null,
   "metadata": {
    "collapsed": false
   },
   "outputs": [],
   "source": [
    "plt.rcParams[\"figure.figsize\"] = (16,2)\n",
    "vis.PlotConnectivityProperties()\n",
    "vis.RenderGraphics()"
   ]
  },
  {
   "cell_type": "code",
   "execution_count": null,
   "metadata": {
    "collapsed": false
   },
   "outputs": [],
   "source": [
    "plt.rcParams[\"figure.figsize\"] = (16,2)\n",
    "vis.PlotDegreeDistribution()\n",
    "vis.RenderGraphics()"
   ]
  },
  {
   "cell_type": "code",
   "execution_count": null,
   "metadata": {
    "collapsed": false
   },
   "outputs": [],
   "source": [
    "plt.rcParams[\"figure.figsize\"] = (14,5)\n",
    "vis.PlotEigenValues(numbertodrop=1)\n",
    "vis.RenderGraphics()"
   ]
  },
  {
   "cell_type": "code",
   "execution_count": null,
   "metadata": {
    "collapsed": true
   },
   "outputs": [],
   "source": []
  },
  {
   "cell_type": "code",
   "execution_count": null,
   "metadata": {
    "collapsed": true
   },
   "outputs": [],
   "source": []
  }
 ],
 "metadata": {
  "kernelspec": {
   "display_name": "Python 3",
   "language": "python",
   "name": "python3"
  },
  "language_info": {
   "codemirror_mode": {
    "name": "ipython",
    "version": 3
   },
   "file_extension": ".py",
   "mimetype": "text/x-python",
   "name": "python",
   "nbconvert_exporter": "python",
   "pygments_lexer": "ipython3",
   "version": "3.6.0"
  },
  "widgets": {
   "state": {
    "6d65a9ad8fac49ac87c94d87db656c15": {
     "views": [
      {
       "cell_index": 2
      }
     ]
    },
    "98d958f26aa5487caa03c98921b5154b": {
     "views": [
      {
       "cell_index": 2
      }
     ]
    }
   },
   "version": "1.2.0"
  }
 },
 "nbformat": 4,
 "nbformat_minor": 2
}
