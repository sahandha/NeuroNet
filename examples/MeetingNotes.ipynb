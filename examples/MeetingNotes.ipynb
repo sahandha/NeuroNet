{
 "cells": [
  {
   "cell_type": "markdown",
   "metadata": {},
   "source": [
    "# Notes (Feb 21 2017):\n",
    "\n",
    "### Modeling paramaters\n",
    "+ Add the noise to current only.\n",
    "+ Pre-develop the synaptic structure. \n",
    "\n",
    "### Time delay\n",
    "+ Length of axon can be in the scale of milimeters\n",
    "+ the time it takes for a signal to propagate down an axon, is about 2 ms/mm. \n",
    "\n",
    "### Separation of time scales\n",
    "+ For the window of time in the scale of simulation above, I can assume the synapse structure of the network is constant\n",
    "\n",
    "### Data\n",
    "+ Fully connected network. \n",
    "+ There is noise. \n",
    "+ Action potentials are defined as signal going down, up and back down to original place. \n",
    "+ Fast dynamics. \n",
    "+ Slow dynamics are filetered out. \n",
    "+ 13 day old network\n",
    "+ Regarded at 10 kHz\n",
    "+ 1 min of data. \n",
    "+ Two electrodes close by, one far away. \n",
    "+ Table numbering:\n",
    "\n",
    "| 11 | 21 | 31 | 41 |...|\n",
    "| -- | -- | -- | -- |-- |\n",
    "| 12 | 22 | 32 | 42 |   |\n",
    "| 13 | 23 | 33 | 43 |   |\n",
    "|... |    |    |    |   |\n",
    "|... |    |    |    |   |"
   ]
  },
  {
   "cell_type": "code",
   "execution_count": null,
   "metadata": {
    "collapsed": true
   },
   "outputs": [],
   "source": []
  }
 ],
 "metadata": {
  "kernelspec": {
   "display_name": "Python 3",
   "language": "python",
   "name": "python3"
  },
  "language_info": {
   "codemirror_mode": {
    "name": "ipython",
    "version": 3
   },
   "file_extension": ".py",
   "mimetype": "text/x-python",
   "name": "python",
   "nbconvert_exporter": "python",
   "pygments_lexer": "ipython3",
   "version": "3.6.0"
  }
 },
 "nbformat": 4,
 "nbformat_minor": 2
}
