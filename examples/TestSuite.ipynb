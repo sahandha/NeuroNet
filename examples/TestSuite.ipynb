{
 "cells": [
  {
   "cell_type": "code",
   "execution_count": 1,
   "metadata": {
    "collapsed": false
   },
   "outputs": [
    {
     "data": {
      "application/javascript": [
       "IPython.OutputArea.auto_scroll_threshold = 9999;"
      ],
      "text/plain": [
       "<IPython.core.display.Javascript object>"
      ]
     },
     "metadata": {},
     "output_type": "display_data"
    }
   ],
   "source": [
    "%%javascript\n",
    "IPython.OutputArea.auto_scroll_threshold = 9999;"
   ]
  },
  {
   "cell_type": "code",
   "execution_count": null,
   "metadata": {
    "collapsed": false,
    "deletable": true,
    "editable": true
   },
   "outputs": [],
   "source": [
    "from NeuroNet import *\n",
    "%config InlineBackend.figure_formats=['svg']\n",
    "plt.rcParams[\"figure.figsize\"] = (13, 2)\n",
    "import time"
   ]
  },
  {
   "cell_type": "code",
   "execution_count": null,
   "metadata": {
    "collapsed": false,
    "deletable": true,
    "editable": true
   },
   "outputs": [],
   "source": [
    "eps  = 1e-4 # This is the time scale.\n",
    "tend = 400*eps\n",
    "dt   = 0.1*eps\n",
    "\n",
    "numNeurons = 500\n",
    "displaynum = min(10,numNeurons)\n",
    "neurons = []\n",
    "\n",
    "\n",
    "for i in range(numNeurons):\n",
    "    if i==0:\n",
    "        I=1\n",
    "    else:\n",
    "        I=0\n",
    "    n = Neuron(i,dt=dt,tend=tend, eps=eps, a=np.random.uniform(0.6,0.9),b=np.random.uniform(0.5,0.9),tau=np.random.uniform(10,14),I=I)\n",
    "    n.Initialize([-2,0])\n",
    "    n.SetNoise(0,0.0)\n",
    "    n.SetFlow(n.FHNFlow)\n",
    "    n.SetSynapseLimit(np.random.uniform(980,1020))\n",
    "    neurons.append(n)\n",
    "    \n",
    "b = Brain(neurons=neurons,dt=dt,tend=tend,connectionscale=1000)\n",
    "for i in tnrange(500,desc='Syn Dev'):\n",
    "    b.DevelopSynapseNetwork()\n",
    "#b.Simulate()"
   ]
  },
  {
   "cell_type": "code",
   "execution_count": null,
   "metadata": {
    "collapsed": false,
    "deletable": true,
    "editable": true
   },
   "outputs": [],
   "source": [
    "plt.rcParams[\"figure.figsize\"] = (8,8)\n",
    "vis = Visualization(network=b._Network,neurons=b._Neurons, synapsecount=b._SynapseCountHistory)\n",
    "vis._EdgeLabels = b._EdgeLabels\n",
    "vis._NetworkEdgeWeightFactor = 4\n",
    "#vis.DrawNetwork(edgelabels=False)"
   ]
  },
  {
   "cell_type": "code",
   "execution_count": null,
   "metadata": {
    "collapsed": false,
    "deletable": true,
    "editable": true
   },
   "outputs": [],
   "source": [
    "plt.rcParams[\"figure.figsize\"] = (13, 2)\n",
    "b.CollectActiveNeurons()\n",
    "ActiveNeurons = b._ActiveNeurons;\n",
    "numberToShow = min(5,len(ActiveNeurons))\n",
    "for n in range(numberToShow):\n",
    "    ActiveNeurons[n].PlotState(states={0:\"V\",1:\"w\"},legend=[\"Voltage\",\"Current\"],colors=[[0.8,0.5,0.4],[0.4,0.6,0.8]])\n",
    "print(\"Displaying {} active neurons. {} more active neurons are present.\".format(numberToShow,len(ActiveNeurons)-numberToShow))\n",
    "\n",
    "InactiveNeurons = b._InactiveNeurons;\n",
    "numberToShow = min(2,len(InactiveNeurons))\n",
    "for n in range(numberToShow):\n",
    "    InactiveNeurons[n].PlotState(states={0:\"V\",1:\"w\"},legend=[\"Voltage\",\"Current\"],colors=[[0.8,0.5,0.4],[0.4,0.6,0.8]])\n",
    "print(\"Displaying {} inactive neurons. {} more inactive neurons are present.\".format(numberToShow,len(InactiveNeurons)-numberToShow))"
   ]
  },
  {
   "cell_type": "code",
   "execution_count": null,
   "metadata": {
    "collapsed": false,
    "deletable": true,
    "editable": true
   },
   "outputs": [],
   "source": [
    "plt.rcParams[\"figure.figsize\"] = (12, 2)\n",
    "#vis.PlotSynapseRank()\n",
    "print(b._SynapseCount)"
   ]
  },
  {
   "cell_type": "code",
   "execution_count": null,
   "metadata": {
    "collapsed": false,
    "deletable": true,
    "editable": true
   },
   "outputs": [],
   "source": [
    "plt.rcParams[\"figure.figsize\"] = (16,2)\n",
    "vis.PlotConnectivityProperties()"
   ]
  },
  {
   "cell_type": "code",
   "execution_count": null,
   "metadata": {
    "collapsed": false,
    "deletable": true,
    "editable": true
   },
   "outputs": [],
   "source": [
    "plt.rcParams[\"figure.figsize\"] = (16,2)\n",
    "vis.PlotDegreeDistribution()"
   ]
  },
  {
   "cell_type": "code",
   "execution_count": null,
   "metadata": {
    "collapsed": false,
    "deletable": true,
    "editable": true
   },
   "outputs": [],
   "source": [
    "plt.rcParams[\"figure.figsize\"] = (14,10)\n",
    "vis.PlotEigenValues(numbertodrop=13)"
   ]
  },
  {
   "cell_type": "code",
   "execution_count": null,
   "metadata": {
    "collapsed": false,
    "deletable": true,
    "editable": true,
    "scrolled": true
   },
   "outputs": [],
   "source": [
    "plt.rcParams[\"figure.figsize\"] = (10,4)\n",
    "N = 500\n",
    "L=np.random.exponential(1,(N,N))\n",
    "#L=np.random.normal(0,2,(1000,1000));\n",
    "H=np.ndarray.flatten(L)\n",
    "eigs = np.linalg.eigvals(L)\n",
    "\n",
    "reals = [np.real(n) for n in eigs]\n",
    "imag  = [np.imag(n) for n in eigs]\n",
    "plt.subplot(121)\n",
    "ps=plt.plot(reals[1:],imag[1:],'o')\n",
    "plt.grid(True)\n",
    "plt.title('Eigenvalues')\n",
    "plt.xlabel('real part')\n",
    "\n",
    "plt.subplot(122)\n",
    "plt.hist(H,50)\n",
    "plt.show()"
   ]
  },
  {
   "cell_type": "code",
   "execution_count": null,
   "metadata": {
    "collapsed": false,
    "deletable": true,
    "editable": true
   },
   "outputs": [],
   "source": [
    "data=nx.nx.to_numpy_matrix(b._Network)"
   ]
  },
  {
   "cell_type": "code",
   "execution_count": null,
   "metadata": {
    "collapsed": false,
    "deletable": true,
    "editable": true
   },
   "outputs": [],
   "source": [
    "plt.rcParams[\"figure.figsize\"] = (16,4)\n",
    "ax2 = plt.subplot(1,2,2)\n",
    "p=ax2.pcolorfast(L,cmap='Blues')\n",
    "plt.colorbar(p)\n",
    "\n",
    "plt.show()"
   ]
  },
  {
   "cell_type": "code",
   "execution_count": null,
   "metadata": {
    "collapsed": false,
    "deletable": true,
    "editable": true
   },
   "outputs": [],
   "source": [
    "plt.rcParams[\"figure.figsize\"] = (16,4)\n",
    "vis.PlotAdjacencyMatrix()"
   ]
  },
  {
   "cell_type": "code",
   "execution_count": null,
   "metadata": {
    "collapsed": false,
    "deletable": true,
    "editable": true
   },
   "outputs": [],
   "source": [
    "len(vis.ComputeEigenValues(matrix=\"Adjacency\",numbertodrop=10))"
   ]
  },
  {
   "cell_type": "code",
   "execution_count": null,
   "metadata": {
    "collapsed": true,
    "deletable": true,
    "editable": true
   },
   "outputs": [],
   "source": []
  },
  {
   "cell_type": "code",
   "execution_count": null,
   "metadata": {
    "collapsed": true,
    "deletable": true,
    "editable": true
   },
   "outputs": [],
   "source": []
  }
 ],
 "metadata": {
  "kernelspec": {
   "display_name": "Python 3",
   "language": "python",
   "name": "python3"
  },
  "language_info": {
   "codemirror_mode": {
    "name": "ipython",
    "version": 3
   },
   "file_extension": ".py",
   "mimetype": "text/x-python",
   "name": "python",
   "nbconvert_exporter": "python",
   "pygments_lexer": "ipython3",
   "version": "3.6.0"
  },
  "widgets": {
   "state": {
    "64659e6d8e5c40c89f32eb85b5e122a7": {
     "views": [
      {
       "cell_index": 2
      }
     ]
    }
   },
   "version": "1.2.0"
  }
 },
 "nbformat": 4,
 "nbformat_minor": 2
}
