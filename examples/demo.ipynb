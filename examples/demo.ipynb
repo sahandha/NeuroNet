{
 "cells": [
  {
   "cell_type": "raw",
   "metadata": {
    "deletable": true,
    "editable": true,
    "slideshow": {
     "slide_type": "slide"
    }
   },
   "source": [
    "<script>\n",
    "  function code_toggle() {\n",
    "    if (code_shown){\n",
    "      $('div.input').hide('500');\n",
    "      $('#toggleButton').val('Show Code')\n",
    "    } else {\n",
    "      $('div.input').show('500');\n",
    "      $('#toggleButton').val('Hide Code')\n",
    "    }\n",
    "    code_shown = !code_shown\n",
    "  }\n",
    "\n",
    "  $( document ).ready(function(){\n",
    "    code_shown=false;\n",
    "    $('div.input').hide()\n",
    "  });\n",
    "</script>\n",
    "<form action=\"javascript:code_toggle()\"><input type=\"submit\" id=\"toggleButton\" value=\"Show Code\"></form>"
   ]
  },
  {
   "cell_type": "code",
   "execution_count": 1,
   "metadata": {
    "collapsed": false,
    "deletable": true,
    "editable": true,
    "slideshow": {
     "slide_type": "skip"
    }
   },
   "outputs": [
    {
     "data": {
      "application/javascript": [
       "IPython.OutputArea.auto_scroll_threshold = 9999;"
      ],
      "text/plain": [
       "<IPython.core.display.Javascript object>"
      ]
     },
     "metadata": {},
     "output_type": "display_data"
    }
   ],
   "source": [
    "%%javascript\n",
    "IPython.OutputArea.auto_scroll_threshold = 9999;"
   ]
  },
  {
   "cell_type": "code",
   "execution_count": 2,
   "metadata": {
    "collapsed": true,
    "deletable": true,
    "editable": true
   },
   "outputs": [],
   "source": [
    "from NeuroNet import *\n",
    "%config InlineBackend.figure_formats=['svg']\n",
    "plt.rcParams[\"figure.figsize\"] = (13, 2)\n",
    "import time"
   ]
  },
  {
   "cell_type": "markdown",
   "metadata": {
    "deletable": true,
    "editable": true,
    "slideshow": {
     "slide_type": "slide"
    }
   },
   "source": [
    "# An Agent-based Model of a Neuronal Network\n",
    "\n",
    "##### Sahand Hariri\n",
    "Spring 2017"
   ]
  },
  {
   "cell_type": "markdown",
   "metadata": {
    "deletable": true,
    "editable": true,
    "slideshow": {
     "slide_type": "slide"
    }
   },
   "source": [
    "# Design of the simulation\n",
    "\n",
    "+ Each Neuron is modeled as an agent. \n",
    "+ The governing model for each neuron is the Fittzhugh-Nagumo model (shown later). \n",
    "+ Each neuron contains a list of neurons to which it has formed a synapse.\n",
    "+ There is an object called \"Brain\" that controls the simulation.\n"
   ]
  },
  {
   "cell_type": "markdown",
   "metadata": {
    "deletable": true,
    "editable": true,
    "slideshow": {
     "slide_type": "slide"
    }
   },
   "source": [
    "# Fittshugh-Nagumo Model\n",
    "\n",
    "There are two variables $V$ and $w$ in the model which represent memberane potential (fast variable), and the current flow (slow variable) respectively. \n",
    "The equations are as follow:\n",
    "\n",
    "\\begin{align*}\n",
    "\\frac{dV_i}{dt} =& V_i - \\frac{V_i^3}{3} - w_i + I + s_iV_j\\\\\n",
    "\\frac{dw_i}{dt} =& \\frac{1}{\\tau}(V_i + a - b w_i)\n",
    "\\end{align*}\n",
    "\n",
    "As can be seen, there are four parameters in the system: \n",
    "\n",
    "- $a = unif(0.6,0.9)$ \n",
    "- $b = unif(0.5,0.9)$\n",
    "- $\\tau = unif(10,14)$\n",
    "- $I = \\begin{cases}1, i=1\\\\ 0, i\\neq1 \\end{cases}$, for neuron number $i$. \n",
    "- $s_i = unif(0.09,0.11)$"
   ]
  },
  {
   "cell_type": "code",
   "execution_count": null,
   "metadata": {
    "collapsed": false,
    "deletable": true,
    "editable": true,
    "slideshow": {
     "slide_type": "skip"
    }
   },
   "outputs": [],
   "source": [
    "tend = 800\n",
    "dt   = 0.1\n",
    "\n",
    "numNeurons = 50\n",
    "displaynum = min(10,numNeurons)\n",
    "neurons = []\n",
    "\n",
    "\n",
    "for i in range(numNeurons):\n",
    "    if i==0:\n",
    "        I=1\n",
    "    else:\n",
    "        I=0\n",
    "    n = Neuron(i,dt=dt,tend=tend,a=random.uniform(0.6,0.9),b=random.uniform(0.5,0.9),tau=random.uniform(10,14),I=I)\n",
    "    n.SetFlow(n.FHNFlow)\n",
    "    n.SetSynapseLimit(random.uniform(980,1120))\n",
    "    neurons.append(n)\n",
    "    \n",
    "b = Brain(neurons=neurons,dt=dt,tend=tend,connectionscale=100)\n",
    "b.Simulate()"
   ]
  },
  {
   "cell_type": "markdown",
   "metadata": {
    "deletable": true,
    "editable": true,
    "slideshow": {
     "slide_type": "slide"
    }
   },
   "source": [
    "# Network formed between neurons (100 Neurons)"
   ]
  },
  {
   "cell_type": "code",
   "execution_count": null,
   "metadata": {
    "collapsed": false,
    "deletable": true,
    "editable": true,
    "slideshow": {
     "slide_type": "fragment"
    }
   },
   "outputs": [],
   "source": [
    "plt.rcParams[\"figure.figsize\"] = (8,8)\n",
    "vis = Visualization(network=b._Network,neurons=b._Neurons, synapsecount=b._SynapseCountHistory)\n",
    "vis.DrawNetwork(edgelabels=False)"
   ]
  },
  {
   "cell_type": "markdown",
   "metadata": {
    "deletable": true,
    "editable": true,
    "slideshow": {
     "slide_type": "fragment"
    }
   },
   "source": [
    "Note: The connections are directed since synapses are one sided connections. "
   ]
  },
  {
   "cell_type": "markdown",
   "metadata": {
    "deletable": true,
    "editable": true,
    "slideshow": {
     "slide_type": "slide"
    }
   },
   "source": [
    "# Action potential observed in active neurons:"
   ]
  },
  {
   "cell_type": "code",
   "execution_count": null,
   "metadata": {
    "collapsed": false,
    "deletable": true,
    "editable": true,
    "slideshow": {
     "slide_type": "fragment"
    }
   },
   "outputs": [],
   "source": [
    "plt.rcParams[\"figure.figsize\"] = (13, 2)\n",
    "b.CollectActiveNeurons()\n",
    "ActiveNeurons = b._ActiveNeurons;\n",
    "numberToShow = min(5,len(ActiveNeurons))\n",
    "for n in range(numberToShow):\n",
    "    ActiveNeurons[n].PlotState(states={0:\"V\",1:\"w\"},legend=[\"Voltage\",\"Current\"],colors=[[0.8,0.5,0.4],[0.4,0.6,0.8]])\n",
    "print(\"Displaying {} active neurons. {} more active neurons are present.\".format(numberToShow,len(ActiveNeurons)-numberToShow))\n",
    "\n",
    "InactiveNeurons = b._InactiveNeurons;\n",
    "numberToShow = min(2,len(InactiveNeurons))\n",
    "for n in range(numberToShow):\n",
    "    InactiveNeurons[n].PlotState(states={0:\"V\",1:\"w\"},legend=[\"Voltage\",\"Current\"],colors=[[0.8,0.5,0.4],[0.4,0.6,0.8]])\n",
    "print(\"Displaying {} inactive neurons. {} more inactive neurons are present.\".format(numberToShow,len(InactiveNeurons)-numberToShow))"
   ]
  },
  {
   "cell_type": "markdown",
   "metadata": {
    "deletable": true,
    "editable": true,
    "slideshow": {
     "slide_type": "slide"
    }
   },
   "source": [
    "# Some Network properties\n",
    "\n",
    "### Connectivity Properties and Degree Distributions:"
   ]
  },
  {
   "cell_type": "code",
   "execution_count": null,
   "metadata": {
    "collapsed": false,
    "deletable": true,
    "editable": true,
    "slideshow": {
     "slide_type": "fragment"
    }
   },
   "outputs": [],
   "source": [
    "plt.rcParams[\"figure.figsize\"] = (12, 2)\n",
    "vis.PlotSynapseRank()\n",
    "print(b._SynapseCount)"
   ]
  },
  {
   "cell_type": "code",
   "execution_count": null,
   "metadata": {
    "collapsed": false,
    "deletable": true,
    "editable": true,
    "slideshow": {
     "slide_type": "fragment"
    }
   },
   "outputs": [],
   "source": [
    "plt.rcParams[\"figure.figsize\"] = (16,2)\n",
    "vis.PlotConnectivityProperties()"
   ]
  },
  {
   "cell_type": "code",
   "execution_count": null,
   "metadata": {
    "collapsed": false,
    "deletable": true,
    "editable": true,
    "slideshow": {
     "slide_type": "fragment"
    }
   },
   "outputs": [],
   "source": [
    "plt.rcParams[\"figure.figsize\"] = (16,2)\n",
    "vis.PlotDegreeDistribution()"
   ]
  },
  {
   "cell_type": "markdown",
   "metadata": {
    "deletable": true,
    "editable": true,
    "slideshow": {
     "slide_type": "slide"
    }
   },
   "source": [
    "# Eigenvalues:"
   ]
  },
  {
   "cell_type": "code",
   "execution_count": null,
   "metadata": {
    "collapsed": false,
    "deletable": true,
    "editable": true,
    "slideshow": {
     "slide_type": "fragment"
    }
   },
   "outputs": [],
   "source": [
    "plt.rcParams[\"figure.figsize\"] = (14,5)\n",
    "vis.PlotEigenValues()"
   ]
  },
  {
   "cell_type": "code",
   "execution_count": null,
   "metadata": {
    "collapsed": true
   },
   "outputs": [],
   "source": []
  }
 ],
 "metadata": {
  "kernelspec": {
   "display_name": "Python 3",
   "language": "python",
   "name": "python3"
  },
  "language_info": {
   "codemirror_mode": {
    "name": "ipython",
    "version": 3
   },
   "file_extension": ".py",
   "mimetype": "text/x-python",
   "name": "python",
   "nbconvert_exporter": "python",
   "pygments_lexer": "ipython3",
   "version": "3.6.0"
  },
  "widgets": {
   "state": {
    "a792bba9befa4decb3e0b4639cb3a81c": {
     "views": [
      {
       "cell_index": 6
      }
     ]
    }
   },
   "version": "1.2.0"
  }
 },
 "nbformat": 4,
 "nbformat_minor": 0
}
