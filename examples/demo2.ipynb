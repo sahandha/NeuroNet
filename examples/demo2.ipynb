{
 "cells": [
  {
   "cell_type": "raw",
   "metadata": {
    "deletable": true,
    "editable": true,
    "slideshow": {
     "slide_type": "slide"
    }
   },
   "source": [
    "<script>\n",
    "  function code_toggle() {\n",
    "    if (code_shown){\n",
    "      $('div.input').hide('500');\n",
    "      $('#toggleButton').val('Show Code')\n",
    "    } else {\n",
    "      $('div.input').show('500');\n",
    "      $('#toggleButton').val('Hide Code')\n",
    "    }\n",
    "    code_shown = !code_shown\n",
    "  }\n",
    "\n",
    "  $( document ).ready(function(){\n",
    "    code_shown=false;\n",
    "    $('div.input').hide()\n",
    "  });\n",
    "</script>\n",
    "<form action=\"javascript:code_toggle()\"><input type=\"submit\" id=\"toggleButton\" value=\"Show Code\"></form>"
   ]
  },
  {
   "cell_type": "code",
   "execution_count": 1,
   "metadata": {
    "collapsed": false,
    "deletable": true,
    "editable": true,
    "slideshow": {
     "slide_type": "skip"
    }
   },
   "outputs": [
    {
     "data": {
      "application/javascript": [
       "IPython.OutputArea.auto_scroll_threshold = 9999;"
      ],
      "text/plain": [
       "<IPython.core.display.Javascript object>"
      ]
     },
     "metadata": {},
     "output_type": "display_data"
    }
   ],
   "source": [
    "%%javascript\n",
    "IPython.OutputArea.auto_scroll_threshold = 9999;"
   ]
  },
  {
   "cell_type": "markdown",
   "metadata": {
    "deletable": true,
    "editable": true,
    "slideshow": {
     "slide_type": "slide"
    }
   },
   "source": [
    "# An Agent-based Model of a Neuronal Network\n",
    "\n",
    "##### Sahand Hariri\n",
    "Spring 2017"
   ]
  },
  {
   "cell_type": "markdown",
   "metadata": {
    "deletable": true,
    "editable": true,
    "slideshow": {
     "slide_type": "slide"
    }
   },
   "source": [
    "# Design of the simulation\n",
    "\n",
    "+ Each Neuron is modeled as an agent. \n",
    "+ The governing model for each neuron is the Fittzhugh-Nagumo model (shown later). \n",
    "+ Each neuron contains a list of neurons to which it has formed a synapse.\n",
    "+ There is an object called \"Brain\" that controls the simulation.\n"
   ]
  },
  {
   "cell_type": "markdown",
   "metadata": {
    "deletable": true,
    "editable": true,
    "slideshow": {
     "slide_type": "slide"
    }
   },
   "source": [
    "# Fittshugh-Nagumo Model\n",
    "\n",
    "There are two variables $V$ and $w$ in the model which represent memberane potential (fast variable), and the current flow (slow variable) respectively. \n",
    "The equations are as follow:\n",
    "\n",
    "\\begin{align*}\n",
    "\\frac{dV_i}{dt} =& V_i - \\frac{V_i^3}{3} - w_i + I + s_iV_j\\\\\n",
    "\\frac{dw_i}{dt} =& \\frac{1}{\\tau}(V_i + a - b w_i)\n",
    "\\end{align*}\n",
    "\n",
    "As can be seen, there are four parameters in the system: \n",
    "\n",
    "- $a = unif(0.6,0.9)$ \n",
    "- $b = unif(0.5,0.9)$\n",
    "- $\\tau = unif(10,14)$\n",
    "- $I = \\begin{cases}1, i=1\\\\ 0, i\\neq1 \\end{cases}$, for neuron number $i$. \n",
    "- $s_i = unif(0.09,0.11)$"
   ]
  },
  {
   "cell_type": "markdown",
   "metadata": {
    "deletable": true,
    "editable": true,
    "slideshow": {
     "slide_type": "skip"
    }
   },
   "source": [
    "# Underdeveloped Network"
   ]
  },
  {
   "cell_type": "code",
   "execution_count": null,
   "metadata": {
    "collapsed": false
   },
   "outputs": [],
   "source": [
    "from NeuroNet import *\n",
    "%config InlineBackend.figure_formats=['svg']\n",
    "plt.rcParams[\"figure.figsize\"] = (13, 2)\n",
    "import time"
   ]
  },
  {
   "cell_type": "code",
   "execution_count": null,
   "metadata": {
    "collapsed": false,
    "deletable": true,
    "editable": true,
    "slideshow": {
     "slide_type": "skip"
    }
   },
   "outputs": [
    {
     "name": "stdout",
     "output_type": "stream",
     "text": [
      "\n"
     ]
    }
   ],
   "source": [
    "eps  = 1e-4 # This is the time scale.\n",
    "tend = 10000*eps\n",
    "dt   = 0.1*eps\n",
    "\n",
    "numNeurons = 100\n",
    "displaynum = min(10,numNeurons)\n",
    "neurons = []\n",
    "\n",
    "\n",
    "for i in range(numNeurons):\n",
    "    if i==0:\n",
    "        I=1\n",
    "    else:\n",
    "        I=0\n",
    "    n = Neuron(i,dt=dt,tend=tend, eps=eps, a=np.random.uniform(0.6,0.9),b=np.random.uniform(0.5,0.9),tau=np.random.uniform(10,14),I=I)\n",
    "    n.Initialize([0,0])\n",
    "    n.SetNoise(0,0.01)\n",
    "    n.SetFlow(n.FHNFlow)\n",
    "    n.SetSynapseLimit(np.random.uniform(980,1020))\n",
    "    neurons.append(n)\n",
    "    \n",
    "b = Brain(neurons=neurons,dt=dt,tend=tend,connectionscale=200)\n",
    "for i in tnrange(100,desc='Syn Dev'):\n",
    "    b.DevelopSynapseNetwork()\n",
    "#%prun b.Simulate()\n",
    "b.Simulate()"
   ]
  },
  {
   "cell_type": "markdown",
   "metadata": {
    "deletable": true,
    "editable": true,
    "slideshow": {
     "slide_type": "slide"
    }
   },
   "source": [
    "# Underdeveloped Network (100 Neurons)"
   ]
  },
  {
   "cell_type": "code",
   "execution_count": null,
   "metadata": {
    "collapsed": false,
    "deletable": true,
    "editable": true,
    "slideshow": {
     "slide_type": "fragment"
    }
   },
   "outputs": [],
   "source": [
    "plt.rcParams[\"figure.figsize\"] = (8,8)\n",
    "vis = Visualization(network=b._Network,neurons=b._Neurons, synapsecount=b._SynapseCountHistory)\n",
    "vis._EdgeLabels = b._EdgeLabels\n",
    "vis._NetworkEdgeWeightFactor = 30\n",
    "vis.DrawNetwork(edgelabels=False)"
   ]
  },
  {
   "cell_type": "code",
   "execution_count": null,
   "metadata": {
    "collapsed": false
   },
   "outputs": [],
   "source": [
    "plt.rcParams[\"figure.figsize\"] = (14, 6)\n",
    "vis.PlotTimeFrequency()"
   ]
  },
  {
   "cell_type": "markdown",
   "metadata": {
    "deletable": true,
    "editable": true,
    "slideshow": {
     "slide_type": "slide"
    }
   },
   "source": [
    "# Action potential observed in active neurons:"
   ]
  },
  {
   "cell_type": "code",
   "execution_count": null,
   "metadata": {
    "collapsed": false,
    "deletable": true,
    "editable": true,
    "slideshow": {
     "slide_type": "fragment"
    }
   },
   "outputs": [],
   "source": [
    "plt.rcParams[\"figure.figsize\"] = (13, 2)\n",
    "b.CollectActiveNeurons()\n",
    "ActiveNeurons = b._ActiveNeurons;\n",
    "numberToShow = min(5,len(ActiveNeurons))\n",
    "for n in range(numberToShow):\n",
    "    ActiveNeurons[n].PlotState(states={0:\"V\",1:\"w\"},legend=[\"Voltage\",\"Current\"],colors=[[0.8,0.5,0.4],[0.4,0.6,0.8]])\n",
    "print(\"Displaying {} active neurons. {} more active neurons are present.\".format(numberToShow,len(ActiveNeurons)-numberToShow))\n",
    "\n",
    "InactiveNeurons = b._InactiveNeurons;\n",
    "numberToShow = min(2,len(InactiveNeurons))\n",
    "for n in range(numberToShow):\n",
    "    InactiveNeurons[n].PlotState(states={0:\"V\",1:\"w\"},legend=[\"Voltage\",\"Current\"],colors=[[0.8,0.5,0.4],[0.4,0.6,0.8]])\n",
    "print(\"Displaying {} inactive neurons. {} more inactive neurons are present.\".format(numberToShow,len(InactiveNeurons)-numberToShow))"
   ]
  },
  {
   "cell_type": "markdown",
   "metadata": {
    "deletable": true,
    "editable": true,
    "slideshow": {
     "slide_type": "slide"
    }
   },
   "source": [
    "# Some Network properties\n",
    "\n",
    "### Connectivity Properties and Degree Distributions:"
   ]
  },
  {
   "cell_type": "code",
   "execution_count": null,
   "metadata": {
    "collapsed": false,
    "deletable": true,
    "editable": true,
    "slideshow": {
     "slide_type": "fragment"
    }
   },
   "outputs": [],
   "source": [
    "plt.rcParams[\"figure.figsize\"] = (12, 2)\n",
    "vis.PlotSynapseRank()\n",
    "print(b._SynapseCount)"
   ]
  },
  {
   "cell_type": "code",
   "execution_count": null,
   "metadata": {
    "collapsed": false,
    "deletable": true,
    "editable": true,
    "slideshow": {
     "slide_type": "fragment"
    }
   },
   "outputs": [],
   "source": [
    "plt.rcParams[\"figure.figsize\"] = (16,2)\n",
    "vis.PlotConnectivityProperties()"
   ]
  },
  {
   "cell_type": "code",
   "execution_count": null,
   "metadata": {
    "collapsed": false,
    "deletable": true,
    "editable": true,
    "slideshow": {
     "slide_type": "fragment"
    }
   },
   "outputs": [],
   "source": [
    "plt.rcParams[\"figure.figsize\"] = (16,2)\n",
    "vis.PlotDegreeDistribution()"
   ]
  },
  {
   "cell_type": "markdown",
   "metadata": {
    "deletable": true,
    "editable": true,
    "slideshow": {
     "slide_type": "slide"
    }
   },
   "source": [
    "# Eigenvalues:"
   ]
  },
  {
   "cell_type": "code",
   "execution_count": null,
   "metadata": {
    "collapsed": false,
    "deletable": true,
    "editable": true,
    "slideshow": {
     "slide_type": "fragment"
    }
   },
   "outputs": [],
   "source": [
    "plt.rcParams[\"figure.figsize\"] = (14,5)\n",
    "vis.PlotEigenValues()"
   ]
  },
  {
   "cell_type": "markdown",
   "metadata": {
    "deletable": true,
    "editable": true,
    "slideshow": {
     "slide_type": "slide"
    }
   },
   "source": [
    "# Data Handling"
   ]
  },
  {
   "cell_type": "code",
   "execution_count": null,
   "metadata": {
    "collapsed": false,
    "deletable": true,
    "editable": true,
    "slideshow": {
     "slide_type": "fragment"
    }
   },
   "outputs": [],
   "source": [
    "d21 = DataImport(datafolder='/Users/sahand/Research/NeuroNet/Data/2017.02.21/',filename='0004mDiv13_filt0001_21.dat')\n",
    "d21.Read()\n",
    "d21.QuickView()\n",
    "\n",
    "#d21.ButterWorthFilter(order=3, cutoff=.3)\n",
    "#d21.QuickView()"
   ]
  },
  {
   "cell_type": "code",
   "execution_count": null,
   "metadata": {
    "collapsed": false,
    "deletable": true,
    "editable": true,
    "slideshow": {
     "slide_type": "slide"
    }
   },
   "outputs": [],
   "source": [
    "d21.ZoomPlot(t1=300,t2=400)"
   ]
  },
  {
   "cell_type": "code",
   "execution_count": null,
   "metadata": {
    "collapsed": false,
    "deletable": true,
    "editable": true,
    "slideshow": {
     "slide_type": "fragment"
    }
   },
   "outputs": [],
   "source": [
    "plt.rcParams[\"figure.figsize\"] = (12, 8)\n",
    "d21.ZoomPlot(t1=303,t2=307)"
   ]
  },
  {
   "cell_type": "code",
   "execution_count": null,
   "metadata": {
    "collapsed": true,
    "deletable": true,
    "editable": true,
    "slideshow": {
     "slide_type": "skip"
    }
   },
   "outputs": [],
   "source": []
  }
 ],
 "metadata": {
  "celltoolbar": "Slideshow",
  "kernelspec": {
   "display_name": "Python 3",
   "language": "python",
   "name": "python3"
  },
  "language_info": {
   "codemirror_mode": {
    "name": "ipython",
    "version": 3
   },
   "file_extension": ".py",
   "mimetype": "text/x-python",
   "name": "python",
   "nbconvert_exporter": "python",
   "pygments_lexer": "ipython3",
   "version": "3.6.0"
  },
  "widgets": {
   "state": {
    "033c0de2337e46aa9627748c6062616a": {
     "views": [
      {
       "cell_index": 8
      }
     ]
    },
    "04fdf96a6831445ea803b5194ee42a0b": {
     "views": [
      {
       "cell_index": 7
      }
     ]
    },
    "0d55bb1782814d548fa9f40bbf25ac5c": {
     "views": [
      {
       "cell_index": 8
      }
     ]
    },
    "1bd3572e7a1a47458fc4e92a775a4ef9": {
     "views": [
      {
       "cell_index": 8
      }
     ]
    },
    "1d6b9cafd8794ff0b91a08e1854b3f64": {
     "views": [
      {
       "cell_index": 7
      }
     ]
    },
    "1e12bcfe36044801908d46640401b607": {
     "views": [
      {
       "cell_index": 7
      }
     ]
    },
    "201dca0cda654050b2409d4c69ea1e30": {
     "views": [
      {
       "cell_index": 7
      }
     ]
    },
    "26037bfc4c5c4a7399eae7ac29589565": {
     "views": [
      {
       "cell_index": 7
      }
     ]
    },
    "29757351ced5433c82a62283c955e9ac": {
     "views": [
      {
       "cell_index": 7
      }
     ]
    },
    "29e6482c95214dd0a8280b4916a93698": {
     "views": [
      {
       "cell_index": 7
      }
     ]
    },
    "35a08c9b78364501841049413f4c5017": {
     "views": [
      {
       "cell_index": 7
      }
     ]
    },
    "4518498660da42cf8f0a65036ea8eded": {
     "views": [
      {
       "cell_index": 7
      }
     ]
    },
    "4ea7769cd61d475a927c3871ab95adc3": {
     "views": [
      {
       "cell_index": 7
      }
     ]
    },
    "55112d274c684c10b5a1f3b7a23c6b89": {
     "views": [
      {
       "cell_index": 7
      }
     ]
    },
    "592929703afa4ab79136e07b60868d91": {
     "views": [
      {
       "cell_index": 7
      }
     ]
    },
    "59f90fc6a8304f1486916463f47651ad": {
     "views": [
      {
       "cell_index": 7
      }
     ]
    },
    "5afbd339acf143858531a3e84df07433": {
     "views": [
      {
       "cell_index": 7
      }
     ]
    },
    "5c3cfb45e2ef4713a3abe64fa658a5e7": {
     "views": [
      {
       "cell_index": 7
      }
     ]
    },
    "64b5000a613546f4a310bd91c2ed3497": {
     "views": [
      {
       "cell_index": 8
      }
     ]
    },
    "65a28f1e6e2744c09faea3929bf76d4d": {
     "views": [
      {
       "cell_index": 7
      }
     ]
    },
    "6631b83a24434facb34d0d1692fa30cb": {
     "views": [
      {
       "cell_index": 7
      }
     ]
    },
    "6804da962bce4567bfd540097ea31359": {
     "views": [
      {
       "cell_index": 7
      }
     ]
    },
    "73849fa6244847ddbb44664b442ea87f": {
     "views": [
      {
       "cell_index": 7
      }
     ]
    },
    "73fe6ee343d8407b9d14c5ec5ceac2e0": {
     "views": [
      {
       "cell_index": 7
      }
     ]
    },
    "7df995cdcc6b458e95c4dcafab71e53b": {
     "views": [
      {
       "cell_index": 7
      }
     ]
    },
    "7e3b6b4517f04a0c9a4d55929828221c": {
     "views": [
      {
       "cell_index": 7
      }
     ]
    },
    "7e763f3ebe544dc0a113826ac18f754d": {
     "views": [
      {
       "cell_index": 8
      }
     ]
    },
    "822228510bc1427e8265816a04404d25": {
     "views": [
      {
       "cell_index": 8
      }
     ]
    },
    "856e12414bf64d0490de8407a69ccc6c": {
     "views": [
      {
       "cell_index": 7
      }
     ]
    },
    "86396641bd544a2eb9e3100229cba4b1": {
     "views": [
      {
       "cell_index": 7
      }
     ]
    },
    "866a6c7a3aef46f49ea76f3fe841475c": {
     "views": [
      {
       "cell_index": 8
      }
     ]
    },
    "8b27242348174b02b06651d319cf6b72": {
     "views": [
      {
       "cell_index": 7
      }
     ]
    },
    "8d4c077c573b4d31be7cbc6aacebaf51": {
     "views": [
      {
       "cell_index": 8
      }
     ]
    },
    "987763a904044c9abd6c3781661610a4": {
     "views": [
      {
       "cell_index": 7
      }
     ]
    },
    "98d9f9547e5544459716fd1fd7e99cfe": {
     "views": [
      {
       "cell_index": 7
      }
     ]
    },
    "9c3893cb7fa54f2b8538e8d7ce8a3030": {
     "views": [
      {
       "cell_index": 7
      }
     ]
    },
    "a3bfc567d5a446d2bcddd8934e869d6a": {
     "views": [
      {
       "cell_index": 7
      }
     ]
    },
    "a54a57b0d9fd4ef097b307e888c9576b": {
     "views": [
      {
       "cell_index": 7
      }
     ]
    },
    "a6eddde36bfb490b9e69808509992837": {
     "views": [
      {
       "cell_index": 7
      }
     ]
    },
    "acc636631f464e72a0ae99cb64ed3deb": {
     "views": [
      {
       "cell_index": 7
      }
     ]
    },
    "b19edcd64bf74186bc5255e0348a1d36": {
     "views": [
      {
       "cell_index": 7
      }
     ]
    },
    "b4af6a3da0b7457b89c5c347b37bea40": {
     "views": [
      {
       "cell_index": 7
      }
     ]
    },
    "b6d3ffdee47f48a9be552b3533c33bd3": {
     "views": [
      {
       "cell_index": 7
      }
     ]
    },
    "b7da85304ebd460691763d2126aaa57f": {
     "views": [
      {
       "cell_index": 7
      }
     ]
    },
    "b8297a589e7e48c1a131e29b43630d8e": {
     "views": [
      {
       "cell_index": 8
      }
     ]
    },
    "b8945e9e083b4395b731d6b2e3618b80": {
     "views": [
      {
       "cell_index": 7
      }
     ]
    },
    "bdd70aa6cc5342368b30363c2d752512": {
     "views": [
      {
       "cell_index": 33
      }
     ]
    },
    "bfe78c738fb04ccf8f0e2fcd374c8319": {
     "views": [
      {
       "cell_index": 7
      }
     ]
    },
    "c0e4d97fc4b04fd0af5306b930be316e": {
     "views": [
      {
       "cell_index": 7
      }
     ]
    },
    "c0fb881c77054c92a1e4fe857dcbb5ce": {
     "views": [
      {
       "cell_index": 7
      }
     ]
    },
    "c19194daba3a4ec092fb21028b807ac7": {
     "views": [
      {
       "cell_index": 7
      }
     ]
    },
    "ca55437155c54abcb9105e4bfe3e1550": {
     "views": [
      {
       "cell_index": 7
      }
     ]
    },
    "cc7a3d63fd404dbf8996231e63b48260": {
     "views": [
      {
       "cell_index": 8
      }
     ]
    },
    "ce03f438149b46efbf3a1b5a720e1bd0": {
     "views": [
      {
       "cell_index": 7
      }
     ]
    },
    "d1d02cc32d14418695572c18df6eba8d": {
     "views": [
      {
       "cell_index": 7
      }
     ]
    },
    "d35a05f5a6974c0dbaec1a461eb30e85": {
     "views": [
      {
       "cell_index": 7
      }
     ]
    },
    "d9b79fb25f9140ddb128bbb9357ecd83": {
     "views": [
      {
       "cell_index": 7
      }
     ]
    },
    "de2ca729dbef4691841e1d0b3b85ca96": {
     "views": [
      {
       "cell_index": 7
      }
     ]
    },
    "df222057b7dc4fac93234cec7b1e847e": {
     "views": [
      {
       "cell_index": 7
      }
     ]
    },
    "e13c5d92ba604410b782422274f24b60": {
     "views": [
      {
       "cell_index": 7
      }
     ]
    },
    "e55376fce0b54e3081e64cc07b4f1cc0": {
     "views": [
      {
       "cell_index": 8
      }
     ]
    },
    "ec6e5993e257478aad39bd8af54fc692": {
     "views": [
      {
       "cell_index": 7
      }
     ]
    },
    "ef040615aaaf45d8aeb85ea13e5a9f77": {
     "views": [
      {
       "cell_index": 7
      }
     ]
    },
    "f02c8a8bc1ca4246a68789851ee2e68b": {
     "views": [
      {
       "cell_index": 7
      }
     ]
    },
    "f11066b841cf4fc8803014637229af2c": {
     "views": [
      {
       "cell_index": 7
      }
     ]
    },
    "f44febf7502a4359bf79451bf151bcd0": {
     "views": [
      {
       "cell_index": 7
      }
     ]
    }
   },
   "version": "1.2.0"
  }
 },
 "nbformat": 4,
 "nbformat_minor": 0
}
